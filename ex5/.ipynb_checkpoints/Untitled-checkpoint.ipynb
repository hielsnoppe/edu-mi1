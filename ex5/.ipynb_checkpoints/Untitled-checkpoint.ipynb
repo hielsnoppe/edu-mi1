{
 "cells": [
  {
   "cell_type": "code",
   "execution_count": 5,
   "metadata": {
    "collapsed": false
   },
   "outputs": [
    {
     "name": "stdout",
     "output_type": "stream",
     "text": [
      "200 sklearn.cross_validation.KFold(n=200, n_folds=10, shuffle=False, random_state=None)\n"
     ]
    }
   ],
   "source": [
    "import numpy as np\n",
    "import math\n",
    "import matplotlib.pyplot as plt\n",
    "import random as rd\n",
    "import csv\n",
    "from sklearn import cross_validation\n",
    "from sklearn import ensemble\n",
    "from sklearn.cross_validation import KFold\n",
    "from numpy import genfromtxt\n",
    "%matplotlib inline\n",
    "\n",
    "# read data\n",
    "data1 = genfromtxt('TrainingRidge.csv', delimiter=',')\n",
    "data2 = genfromtxt('ValidationRidge.csv', delimiter=',')\n",
    "x1train = np.array(data1[1:,0])\n",
    "x2train = np.array(data1[1:,1])\n",
    "y_train = np.array(data1[1:,2])\n",
    "x1val = np.array(data2[1:,0])\n",
    "x2val = np.array(data2[1:,1])\n",
    "\n",
    "# zero mean, zero standard deviation\n",
    "y_train = (y_train - np.mean(y_train))/np.std(y_train)\n",
    "\n",
    "# prepare 10-fold cross-validation\n",
    "kf = KFold(len(x1train), n_folds=10)\n",
    "print(len(x1train),kf)\n",
    "\n",
    "\n",
    "\n",
    "\n"
   ]
  }
 ],
 "metadata": {
  "kernelspec": {
   "display_name": "Python 3",
   "language": "python",
   "name": "python3"
  },
  "language_info": {
   "codemirror_mode": {
    "name": "ipython",
    "version": 3
   },
   "file_extension": ".py",
   "mimetype": "text/x-python",
   "name": "python",
   "nbconvert_exporter": "python",
   "pygments_lexer": "ipython3",
   "version": "3.5.0"
  }
 },
 "nbformat": 4,
 "nbformat_minor": 0
}
