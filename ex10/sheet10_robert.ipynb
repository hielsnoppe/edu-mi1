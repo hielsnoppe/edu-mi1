{
 "cells": [
  {
   "cell_type": "code",
   "execution_count": 1,
   "metadata": {
    "collapsed": true
   },
   "outputs": [],
   "source": [
    "import numpy as np\n",
    "import matplotlib\n",
    "matplotlib.use(\"Agg\")\n",
    "import matplotlib.pyplot as pp\n",
    "%matplotlib inline"
   ]
  },
  {
   "cell_type": "markdown",
   "metadata": {},
   "source": [
    "# 10.1\n",
    "\n",
    "## (a) graph structure\n",
    "The graph structure gives us the dependencies between the variables. (A)-->(B) means B depends on A, that is $p(a,b) = p(a)\\ p(b|a)$\n",
    "\n",
    "## (b) conditional independence\n",
    "If two random variables (a, b) depend on the same variable (z) and nothing else, they become independent once z is observed.\n",
    "\n",
    "$p(a,b,z) = p(z)\\ p(a|z)\\ p(b|z)$\n",
    "\n",
    "but\n",
    "\n",
    "$p(a|b,z) = p(a|z)$\n",
    "\n",
    "and\n",
    "\n",
    "$p(b|a,z) = p(b|z)$\n",
    "\n",
    "(having observed (z), additionally observing (a) doesn't influence the likelihood of (b) occurring and vice versa)\n",
    "\n",
    "Since the graph structure gives us the dependencies between the random variables, it is now sufficient to only store those explicitely defined probablities instead of having to assume dependencies between all of the variables, i.e. a fully connected graph.\n",
    "\n",
    "## (c) topological sorting\n",
    "Elements inside parantheses can be permutated:\n",
    "(BEF)(A)(DH)(CG)\n",
    "\n",
    "## (d) joint distribution factorization of the graph\n",
    "$p(A,B,C,D,E,F,G,H) = p(B) p(E) p(F) \\quad p(A|F) \\quad p(D|A,E) p(H|A,B) \\quad p(C|F,H) p(G|A,H)$\n",
    "\n",
    "## (e) Markov blanked of node A\n",
    "Markov blanket of node X: (X) + (parent nodes) + (child nodes) + (parents of child nodes)\n",
    "\n",
    "For A these are all nodes except for C: (A) + (F) + (D,G,H) + (B,E) = AB_DEFGH\n",
    "\n",
    "## (f) naive Bayes classifier\n",
    "In the naive Bayes approach we discard relationsships between the effect variables and treat them as conditionally independent, as if they only depended on the cause variable.\n",
    "\n",
    "For instance in email spam detection we would treat word occurence frequencies independent of each other given the cause variable (spam, not spam). The graphical model would have 1 root node (spam, not spam) with #words child nodes. Given the word frequencies in vector $x$, we would determine $p(spam|x)$ like this:\n",
    "\n",
    "$p(\\text{spam}|x) = \\frac{p(\\text{spam})\\ p(x|\\text{spam})}{p(x)} \\overset{\\text{conditionally independent } x_i}{\\propto} p(\\text{spam})\\ \\prod_i p(x_i|\\text{spam})$\n",
    "\n",
    "$p(\\text{not spam}|x) = \\frac{p(\\text{not spam})\\ p(x|\\text{not spam})}{p(x)} \\overset{\\text{conditionally independent } x_i}{\\propto} p(\\text{not spam})\\ \\prod_i p(x_i|\\text{not spam})$$\n",
    "\n",
    "The denominator $p(x)$ may be discarded, because it's the same for $p(\\text{spam}|x)$ and $p(\\text{not spam}|x)$, i.e. has no effect on a specific email's classification as spam or not spam."
   ]
  },
  {
   "cell_type": "markdown",
   "metadata": {},
   "source": [
    "# 10.2 Software"
   ]
  },
  {
   "cell_type": "code",
   "execution_count": 135,
   "metadata": {
    "collapsed": false
   },
   "outputs": [
    {
     "name": "stdout",
     "output_type": "stream",
     "text": [
      "p(s=1|w=1) = 0.4297635605006954\n",
      "p(r=1|w=1) = 0.7079276773296246\n",
      "p(s=1|w=1,r=1) =  0.19449901768172886\n"
     ]
    }
   ],
   "source": [
    "# water sprinkler example from K. Murphy\n",
    "def p(c=[0,1],r=[0,1],s=[0,1],w=[0,1]):\n",
    "    if isinstance(c, int): c = [c]\n",
    "    if isinstance(r, int): r = [r]\n",
    "    if isinstance(s, int): s = [s]\n",
    "    if isinstance(w, int): w = [w]\n",
    "   \n",
    "    # variable syntax: p_...x := p(x|...)\n",
    "    p_c = [0.5, 0.5]  # p(c)\n",
    "    p_cs = [[0.5, 0.5], [0.9, 0.1]]  # p(s|c)\n",
    "    p_cr = [[0.8, 0.2], [0.2, 0.8]]  # p(r|c)\n",
    "    p_rsw = [[[1.0, 0.0], [0.1, 0.9]], [[0.1, 0.9], [0.01, 0.99]]]  # p(w|rs)\n",
    " \n",
    "    p_sum = 0.0\n",
    "    for ci in c:\n",
    "        for ri in r:\n",
    "            for si in s:\n",
    "                for wi in w:\n",
    "                    p_sum += p_c[ci] * p_cs[ci][si] * p_cr[ci][ri] * p_rsw[ri][si][wi]\n",
    "\n",
    "    return p_sum\n",
    "\n",
    "def example():\n",
    "    print(\"p(s=1|w=1) =\", p(s=1, w=1) / p(w=1))\n",
    "    print(\"p(r=1|w=1) =\", p(r=1, w=1) / p(w=1))\n",
    "    print(\"p(s=1|w=1,r=1) = \", p(s=1,w=1,r=1) / p(w=1,r=1))\n",
    "    \n",
    "    return\n",
    "example()"
   ]
  },
  {
   "cell_type": "markdown",
   "metadata": {},
   "source": [
    "# 10.3"
   ]
  },
  {
   "cell_type": "markdown",
   "metadata": {},
   "source": [
    "## (a) graph\n",
    "<img src=\"files/graph10-3a.jpg\">\n",
    "\n",
    "## (b) explaining away / selection bias\n",
    "Selection bias is a phenomenon, where selecting a subpopulation can make otherwise independent variables dependent in the subpopulation.\n",
    "\n",
    "(see document bottom for code and exact values)\n",
    "### in the graph above\n",
    "\n",
    "Both (B) and (E) cause (A), but are independent: \n",
    "\n",
    "$$P(B \\mid E) = P(B)$$\n",
    "\n",
    "But if we know the state of their effect (A), they become dependent:\n",
    "\n",
    "$$P(B \\mid E, A) \\not = P(B \\mid A)$$\n",
    "\n",
    "### another example\n",
    "For example, let the population be all humans and the variables be if they ...\n",
    "\n",
    "    (h) have good hearing\n",
    "    (l) speak your language\n",
    "    (u) understand a word you're saying\n",
    "\n",
    "with a V-shape graph-structure such that (h)-->(u) and (l)-->(u):\n",
    "    \n",
    "             (h) (l)\n",
    "               \\ /\n",
    "                V\n",
    "               (u)\n",
    "           \n",
    "        Figure 1: ASCII Art\n",
    "\n",
    "Normally, (h) if they have good hearing and (l) if they speak your language are independent. But by selecting a population, which (u) understands what you're saying, the posterior probability $p(h=1 \\mid l=1,u=1)$ is lower than $p(h=1 \\mid u=1)$: (h) and (l) are now dependent because either one is sufficient to explain the evidence (u).\n",
    "\n",
    "*Hearing well* now depends on *speaking your language* in the subpopulation of *people who understand what you're saying*."
   ]
  },
  {
   "cell_type": "code",
   "execution_count": 17,
   "metadata": {
    "collapsed": false
   },
   "outputs": [
    {
     "name": "stdout",
     "output_type": "stream",
     "text": [
      "p(b=1) = 0.01\n",
      "p(b=1|e=1) = 0.010000000000000002\n",
      "\n",
      "p(b=1|e=1,a=1) <  p(b=1|a=1)\n",
      "p(b=1|e=1,a=0) <  p(b=1|a=0)\n",
      "p(b=1|e=0,a=1) >= p(b=1|a=1)\n",
      "p(b=1|e=0,a=0) >= p(b=1|a=0)\n",
      "p(b=0|e=1,a=1) >= p(b=0|a=1)\n",
      "p(b=0|e=1,a=0) >= p(b=0|a=0)\n",
      "p(b=0|e=0,a=1) <  p(b=0|a=1)\n",
      "p(b=0|e=0,a=0) <  p(b=0|a=0)\n"
     ]
    }
   ],
   "source": [
    "# the graph in (a)\n",
    "def p(b=[0,1],e=[0,1],a=[0,1],r=[0,1]):\n",
    "    if isinstance(b, int): b = [b]\n",
    "    if isinstance(e, int): e = [e]\n",
    "    if isinstance(a, int): a = [a]\n",
    "    if isinstance(r, int): r = [r]\n",
    "   \n",
    "    # variable syntax: p_...x := p(x|...)\n",
    "    p_b = [0.99, 0.01]\n",
    "    p_e = [1.-10e-6, 10e-6]\n",
    "    p_re = [[1.0, 0.0], [0.0, 1.0]]\n",
    "    p_bea = [[[0.999, 0.001], [0.59, 0.41]], [[0.05, 0.95], [0.02, 0.98]]]\n",
    " \n",
    "    p_sum = 0.0\n",
    "    for bi in b:\n",
    "        for ei in e:\n",
    "            for ai in a:\n",
    "                for ri in r:\n",
    "                    p_sum += p_b[bi] * p_e[ei] * p_re[ri][ei] * p_bea[bi][ei][ai]\n",
    "\n",
    "    return p_sum\n",
    "\n",
    "def example():\n",
    "    print(\"p(b=1) =\", p(b=1))\n",
    "    print(\"p(b=1|e=1) =\", p(b=1,e=1) / p(e=1))\n",
    "    print()\n",
    "    \n",
    "    for b in [1,0]:\n",
    "        for e in [1,0]:\n",
    "            for a in [1,0]:\n",
    "                pb_a = p(b=b,a=a) / p(a=a)\n",
    "                pb_ea = p(b=b,e=e,a=a) / p(e=e,a=a)\n",
    "                sign = \"< \" if pb_ea < pb_a else \">=\"\n",
    "                \n",
    "#                 print(\"b=%i,e=%i,a=%i:  \" % (b,e,a), end=\"\")\n",
    "                print(\"p(b=%i|e=%i,a=%i)\" % (b,e,a), sign, \"p(b=%i|a=%i)\" % (b,a))\n",
    "#                 print(pb_ea)\n",
    "#                 print(pb_ea)\n",
    "\n",
    "                \n",
    "example()"
   ]
  },
  {
   "cell_type": "code",
   "execution_count": 18,
   "metadata": {
    "collapsed": false
   },
   "outputs": [
    {
     "name": "stdout",
     "output_type": "stream",
     "text": [
      "not having observed u:\n",
      "p(h=1) = 0.9\n",
      "p(h=1|l=1) = 0.9\n",
      "\n",
      "having observed u the probability for h=1 goes down if l=1:\n",
      "\n",
      "p(h=1|l=1,u=1) <  p(h=1|u=1)\n",
      "p(h=1|l=1,u=0) <  p(h=1|u=0)\n",
      "p(h=1|l=0,u=1) >= p(h=1|u=1)\n",
      "p(h=1|l=0,u=0) >= p(h=1|u=0)\n",
      "p(h=0|l=1,u=1) >= p(h=0|u=1)\n",
      "p(h=0|l=1,u=0) >= p(h=0|u=0)\n",
      "p(h=0|l=0,u=1) <  p(h=0|u=1)\n",
      "p(h=0|l=0,u=0) <  p(h=0|u=0)\n"
     ]
    }
   ],
   "source": [
    "# extra example\n",
    "def p(h=[0,1],l=[0,1],u=[0,1]):\n",
    "    if isinstance(h, int): h = [h]\n",
    "    if isinstance(l, int): l = [l]\n",
    "    if isinstance(u, int): u = [u]\n",
    "   \n",
    "    # variable syntax: p_...x := p(x|...)\n",
    "    p_h = [0.1, 0.9]\n",
    "    p_l = [0.95, 0.05]\n",
    "    p_lhu = [[[1.0, 0.0], [0.8, 0.2]], [[0.1, 0.9], [0.001, 0.999]]]\n",
    " \n",
    "    p_sum = 0.0\n",
    "    for li in l:\n",
    "        for hi in h:\n",
    "            for ui in u:\n",
    "                p_sum += p_h[hi] * p_l[li] * p_lhu[li][hi][ui]\n",
    "\n",
    "    return p_sum\n",
    "\n",
    "def example():\n",
    "    # this might make it clearer:\n",
    "    # before observing (u), the variables (l) and (h) are independent: p(h|l) == p(h), \n",
    "    #   because p(h,l) = p(h)*p(l)\n",
    "    #   and thus p(h|l) = p(h,l)/p(l) = p(h) p(l)/p(l) = p(h)\n",
    "    print(\"not having observed u:\")\n",
    "    print(\"p(h=1) =\", p(h=1))\n",
    "    print(\"p(h=1|l=1) =\", p(h=1,l=1) / p(l=1))\n",
    "    # but if we additionally observe their effect (u): p(h|l,u) != p(h|u), \n",
    "    #   because p(h,l|u) != p(h|u)*p(l|u)\n",
    "    #   and thus p(h|l,u) = p(h,l,u)/p(l,u) = p(h) p(u) p(u|h,l) / p(l,u)\n",
    "    print(\"\\nhaving observed u the probability for h=1 goes down if l=1:\\n\")\n",
    "\n",
    "    # p(h|l,u) <= p(h|u),  if h == l\n",
    "    # p(h|l,u) >= p(h|u),  if h != l\n",
    "    # no matter what the effect u is\n",
    "    for h in [1,0]:\n",
    "        for l in [1,0]:\n",
    "            for u in [1,0]:\n",
    "                ph_u = p(h=h,u=u) / p(u=u)\n",
    "                ph_lu = p(h=h,l=l,u=u) / p(l=l,u=u)\n",
    "                sign = \"< \" if ph_lu < ph_u else \">=\"\n",
    "\n",
    "#                 print(\"h=%i,l=%i,u=%i:  \" % (h,l,u), end=\"\")\n",
    "                print(\"p(h=%i|l=%i,u=%i)\" % (h,l,u), sign, \"p(h=%i|u=%i)\" % (h,u))\n",
    "#                 print(ph_lu)\n",
    "#                 print(ph_u)\n",
    "                \n",
    "    return\n",
    "example()"
   ]
  }
 ],
 "metadata": {
  "kernelspec": {
   "display_name": "python3",
   "language": "python",
   "name": "python3"
  },
  "language_info": {
   "codemirror_mode": {
    "name": "ipython",
    "version": 3
   },
   "file_extension": ".py",
   "mimetype": "text/x-python",
   "name": "python",
   "nbconvert_exporter": "python",
   "pygments_lexer": "ipython3",
   "version": "3.5.0+"
  }
 },
 "nbformat": 4,
 "nbformat_minor": 0
}
