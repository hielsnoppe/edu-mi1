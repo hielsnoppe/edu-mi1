{
 "cells": [
  {
   "cell_type": "code",
   "execution_count": 6,
   "metadata": {
    "collapsed": true
   },
   "outputs": [],
   "source": [
    "import numpy as np\n",
    "import matplotlib\n",
    "matplotlib.use(\"Agg\")\n",
    "import matplotlib.pyplot as pp\n",
    "%matplotlib inline"
   ]
  },
  {
   "cell_type": "markdown",
   "metadata": {},
   "source": [
    "# 10.1\n",
    "\n",
    "## (a) graph structure\n",
    "The graph structure gives us the dependencies between the variables. (A)-->(B) means B depends on A, that is $p(a,b) = p(a)\\ p(b|a)$\n",
    "\n",
    "## (b) conditional independence\n",
    "If two random variables (a, b) depend on the same variable (z) and nothing else, they become independent once z is observed.\n",
    "\n",
    "$p(a,b,z) = p(z)\\ p(a|z)\\ p(b|z)$\n",
    "\n",
    "but\n",
    "\n",
    "$p(a|b,z) = p(a|z)$\n",
    "\n",
    "and\n",
    "\n",
    "$p(b|a,z) = p(b|z)$\n",
    "\n",
    "(having observed (z), additionally observing (a) doesn't influence the likelihood of (b) occurring and vice versa)\n",
    "\n",
    "Since the graph structure gives us the dependencies between the random variables, it is now sufficient to only store those explicitely defined probablities instead of having to assume dependencies between all of the variables, i.e. a fully connected graph.\n",
    "\n",
    "## (c) topological sorting\n",
    "Elements inside parantheses can be permutated:\n",
    "(BEF)(A)(DH)(CG)\n",
    "\n",
    "## (d) joint distribution factorization of the graph\n",
    "$p(A,B,C,D,E,F,G,H) = p(B) p(E) p(F) \\quad p(A|F) \\quad p(D|A,E) p(H|A,B) \\quad p(C|F,H) p(G|A,H)$\n",
    "\n",
    "## (e) Markov blanked of node A\n",
    "Markov blanket of node X: (X) + (parent nodes) + (child nodes) + (parents of child nodes)\n",
    "\n",
    "For A these are all nodes except for C: (A) + (F) + (D,G,H) + (B,E) = AB_DEFGH\n",
    "\n",
    "## (f) naive Bayes classifier\n",
    "In the naive Bayes approach we discard relationsships between the effect variables and treat them as conditionally independent, as if they only depended on the cause variable.\n",
    "\n",
    "For instance in email spam detection we would treat word occurence frequencies independent of each other given the cause variable (spam, not spam). The graphical model would have 1 root node (spam, not spam) with #words child nodes. Given the word frequencies in vector $x$, we would determine $p(spam|x)$ like this:\n",
    "\n",
    "$p(\\text{spam}|x) = \\frac{p(\\text{spam})\\ p(x|\\text{spam})}{p(x)} \\overset{\\text{conditionally independent } x_i}{\\propto} p(\\text{spam})\\ \\prod_i p(x_i|\\text{spam})$\n",
    "\n",
    "$p(\\text{not spam}|x) = \\frac{p(\\text{not spam})\\ p(x|\\text{not spam})}{p(x)} \\overset{\\text{conditionally independent } x_i}{\\propto} p(\\text{not spam})\\ \\prod_i p(x_i|\\text{not spam})$$\n",
    "\n",
    "The denominator $p(x)$ may be discarded, because it's the same for $p(\\text{spam}|x)$ and $p(\\text{not spam}|x)$, i.e. has no effect on a specific email's classification as spam or not spam."
   ]
  },
  {
   "cell_type": "markdown",
   "metadata": {},
   "source": [
    "# 10.2 Software"
   ]
  },
  {
   "cell_type": "code",
   "execution_count": 29,
   "metadata": {
    "collapsed": false
   },
   "outputs": [
    {
     "name": "stdout",
     "output_type": "stream",
     "text": [
      "p(s=1|w=1) = 0.4297635605006954\n",
      "p(r=1|w=1) = 0.7079276773296246\n"
     ]
    }
   ],
   "source": [
    "# water sprinkler example from K. Murphy\n",
    "def p(c=[0,1],r=[0,1],s=[0,1],w=[0,1]):\n",
    "    if isinstance(c, int): c = [c]\n",
    "    if isinstance(r, int): r = [r]\n",
    "    if isinstance(s, int): s = [s]\n",
    "    if isinstance(w, int): w = [w]\n",
    "   \n",
    "    # variable syntax: p_...x := p(x|...)\n",
    "    p_c = [0.5, 0.5]  # p(c)\n",
    "    p_cs = [[0.5, 0.5], [0.9, 0.1]]  # p(s|c)\n",
    "    p_cr = [[0.8, 0.2], [0.2, 0.8]]  # p(r|c)\n",
    "    p_rsw = [[[1.0, 0.0], [0.1, 0.9]], [[0.1, 0.9], [0.01, 0.99]]]  # p(w|rs)\n",
    " \n",
    "    p_sum = 0.0\n",
    "    for ci in c:\n",
    "        for ri in r:\n",
    "            for si in s:\n",
    "                for wi in w:\n",
    "                    p_sum += p_c[ci] * p_cs[ci][si] * p_cr[ci][ri] * p_rsw[ri][si][wi]\n",
    "\n",
    "    return p_sum\n",
    "\n",
    "def example():          \n",
    "    print(\"p(s=1|w=1) =\", p(s=1, w=1)/p(w=1))\n",
    "    print(\"p(r=1|w=1) =\", p(r=1, w=1)/p(w=1))\n",
    "\n",
    "    return\n",
    "example()"
   ]
  }
 ],
 "metadata": {
  "kernelspec": {
   "display_name": "python3",
   "language": "python",
   "name": "python3"
  },
  "language_info": {
   "codemirror_mode": {
    "name": "ipython",
    "version": 3
   },
   "file_extension": ".py",
   "mimetype": "text/x-python",
   "name": "python",
   "nbconvert_exporter": "python",
   "pygments_lexer": "ipython3",
   "version": "3.5.0+"
  }
 },
 "nbformat": 4,
 "nbformat_minor": 0
}
