{
 "cells": [
  {
   "cell_type": "code",
   "execution_count": null,
   "metadata": {
    "collapsed": true
   },
   "outputs": [],
   "source": [
    "import numpy as np\n",
    "import matplotlib.pyplot as plt\n",
    "%matplotlib inline"
   ]
  },
  {
   "cell_type": "markdown",
   "metadata": {},
   "source": [
    "# 11.1\n",
    "\n",
    "\n",
    "<img src=\"files/Cliques.jpg\">\n",
    "\n",
    "## list of all cliques:\n",
    "\n",
    "$C_1: F,J $  \n",
    "$C_2: F,E $   \n",
    "$C_3: B,E,G $  \n",
    "$C_4: G,H,I $  \n",
    "$C_5: C,H,I $  \n",
    "$C_6: A,C,H $  \n",
    "$C_7: B,C,D $  \n",
    "$C_8: A,E $  \n",
    "$C_9: C,G $  \n"
   ]
  },
  {
   "cell_type": "markdown",
   "metadata": {},
   "source": [
    "# 11.2 \n",
    "## a) construction of moral graph of given DAG:\n",
    "\n",
    "<img src=\"files/moral_graph.png\">\n",
    "\n",
    "## b) \n",
    "\n",
    "- identification of cliques and seperators:  \n",
    "\n",
    "$C_1: a,b,c $  \n",
    "$C_2: c,d $   \n",
    "$C_3: c,e $  \n",
    "  \n",
    "$S_1: c$"
   ]
  }
 ],
 "metadata": {
  "kernelspec": {
   "display_name": "Python 3",
   "language": "python",
   "name": "python3"
  },
  "language_info": {
   "codemirror_mode": {
    "name": "ipython",
    "version": 3
   },
   "file_extension": ".py",
   "mimetype": "text/x-python",
   "name": "python",
   "nbconvert_exporter": "python",
   "pygments_lexer": "ipython3",
   "version": "3.5.1"
  }
 },
 "nbformat": 4,
 "nbformat_minor": 0
}
