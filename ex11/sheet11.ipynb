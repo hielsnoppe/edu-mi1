{
 "cells": [
  {
   "cell_type": "code",
   "execution_count": 5,
   "metadata": {
    "collapsed": false
   },
   "outputs": [
    {
     "name": "stderr",
     "output_type": "stream",
     "text": [
      "/usr/local/lib/python3.5/dist-packages/matplotlib/__init__.py:1350: UserWarning:  This call to matplotlib.use() has no effect\n",
      "because the backend has already been chosen;\n",
      "matplotlib.use() must be called *before* pylab, matplotlib.pyplot,\n",
      "or matplotlib.backends is imported for the first time.\n",
      "\n",
      "  warnings.warn(_use_error_msg)\n"
     ]
    }
   ],
   "source": [
    "import numpy as np\n",
    "import matplotlib\n",
    "matplotlib.use(\"Agg\")\n",
    "import matplotlib.pyplot as pp\n",
    "%matplotlib inline"
   ]
  },
  {
   "cell_type": "markdown",
   "metadata": {},
   "source": [
    "# 11.1"
   ]
  },
  {
   "cell_type": "code",
   "execution_count": 21,
   "metadata": {
    "collapsed": false
   },
   "outputs": [
    {
     "name": "stdout",
     "output_type": "stream",
     "text": [
      "exercise 11.1\n",
      "ach\n",
      "ae\n",
      "bcd\n",
      "bcg\n",
      "beg\n",
      "cghi\n",
      "ef\n",
      "fj\n",
      "\n",
      "moral graph\n",
      "abc\n",
      "cd\n",
      "ce\n"
     ]
    }
   ],
   "source": [
    "# vertices\n",
    "V = set(range(10))\n",
    "# N[v]: neighbors of v\n",
    "N = [\n",
    "    {2,4,7}, \n",
    "    {2,3,4,6},\n",
    "    {0,1,3,6,7,8},\n",
    "    {1,2},\n",
    "    {0,1,5,6},\n",
    "    {4,9},\n",
    "    {1,2,4,7,8},\n",
    "    {0,2,6,8},\n",
    "    {2,6,7},\n",
    "    {5}\n",
    "]\n",
    "\n",
    "letter = ['a','b','c','d','e','f','g','h','i','j']\n",
    "\n",
    "# Bron Kerbosch Alg.\n",
    "def find_all_maximal_cliques(R, P, X):\n",
    "    if not P and not X:\n",
    "        clique = [letter[v] for v in R]\n",
    "        print(\"\".join(sorted(clique)))\n",
    "\n",
    "    for v in P:\n",
    "        find_all_maximal_cliques(R | {v}, P & N[v], X & N[v])\n",
    "        P = P - {v}\n",
    "        X = X | {v}\n",
    "\n",
    "    return\n",
    "\n",
    "print \"exercise 11.1\"\n",
    "find_all_maximal_cliques(set(), V, set())\n",
    "\n",
    "print \"\\nmoral graph\"\n",
    "V = set(range(5))\n",
    "N = [{1,2}, {0,2}, {0,1,3,4}, {2}, {2}]\n",
    "find_all_maximal_cliques(set(), V, set())"
   ]
  },
  {
   "cell_type": "markdown",
   "metadata": {},
   "source": [
    "# 11.2"
   ]
  },
  {
   "cell_type": "markdown",
   "metadata": {},
   "source": [
    "# 11.3"
   ]
  },
  {
   "cell_type": "code",
   "execution_count": 19,
   "metadata": {
    "collapsed": false
   },
   "outputs": [
    {
     "name": "stdout",
     "output_type": "stream",
     "text": [
      "p(b=1) = 0.01\n",
      "p(b=1|e=1) = 0.01\n",
      "\n",
      "p(b=1|e=1,a=1) <  p(b=1|a=1)\n",
      "p(b=1|e=1,a=0) <  p(b=1|a=0)\n",
      "p(b=1|e=0,a=1) >= p(b=1|a=1)\n",
      "p(b=1|e=0,a=0) >= p(b=1|a=0)\n",
      "p(b=0|e=1,a=1) >= p(b=0|a=1)\n",
      "p(b=0|e=1,a=0) >= p(b=0|a=0)\n",
      "p(b=0|e=0,a=1) <  p(b=0|a=1)\n",
      "p(b=0|e=0,a=0) <  p(b=0|a=0)\n",
      "\n",
      "p(a=0) == 0.989506\n",
      "p(a=1) == 0.010494\n",
      "p(b=0) == 0.990000\n",
      "p(b=1) == 0.010000\n",
      "p(e=0) == 0.999990\n",
      "p(e=1) == 0.000010\n",
      "p(r=0) == 0.999990\n",
      "p(r=1) == 0.000010\n"
     ]
    }
   ],
   "source": [
    "# the graph in (a)\n",
    "def p(b=[0,1],e=[0,1],a=[0,1],r=[0,1]):\n",
    "    if isinstance(b, int): b = [b]\n",
    "    if isinstance(e, int): e = [e]\n",
    "    if isinstance(a, int): a = [a]\n",
    "    if isinstance(r, int): r = [r]\n",
    "   \n",
    "    # variable syntax: p_...x := p(x|...)\n",
    "    p_b = [0.99, 0.01]\n",
    "    p_e = [1.-10e-6, 10e-6]\n",
    "    p_re = [[1.0, 0.0], [0.0, 1.0]]\n",
    "    p_bea = [[[0.999, 0.001], [0.59, 0.41]], [[0.05, 0.95], [0.02, 0.98]]]\n",
    " \n",
    "    p_sum = 0.0\n",
    "    for bi in b:\n",
    "        for ei in e:\n",
    "            for ai in a:\n",
    "                for ri in r:\n",
    "                    p_sum += p_b[bi] * p_e[ei] * p_re[ri][ei] * p_bea[bi][ei][ai]\n",
    "\n",
    "    return p_sum\n",
    "\n",
    "def example():\n",
    "    print \"p(b=1) =\", p(b=1)\n",
    "    print \"p(b=1|e=1) =\", p(b=1,e=1) / p(e=1)\n",
    "    print\n",
    "    \n",
    "    for b in [1,0]:\n",
    "        for e in [1,0]:\n",
    "            for a in [1,0]:\n",
    "                p_ab = p(b=b,a=a) / p(a=a)\n",
    "                p_eab = p(b=b,e=e,a=a) / p(e=e,a=a)\n",
    "                sign = \"< \" if p_eab < p_ab else \">=\"\n",
    "                print \"p(b=%i|e=%i,a=%i)\" % (b,e,a), sign, \"p(b=%i|a=%i)\" % (b,a)\n",
    "\n",
    "    print\n",
    "    for a in [0,1]: print \"p(a=%i) == %f\" % (a, p(a=a))\n",
    "    for b in [0,1]: print \"p(b=%i) == %f\" % (b, p(b=b))\n",
    "    for e in [0,1]: print \"p(e=%i) == %f\" % (e, p(e=e))\n",
    "    for r in [0,1]: print \"p(r=%i) == %f\" % (r, p(r=r))\n",
    "    return\n",
    "example()"
   ]
  },
  {
   "cell_type": "code",
   "execution_count": 17,
   "metadata": {
    "collapsed": false
   },
   "outputs": [
    {
     "name": "stdout",
     "output_type": "stream",
     "text": [
      "+------------+-------+----------+\n",
      "| Node       | Value | Marginal |\n",
      "+------------+-------+----------+\n",
      "| alarm      | False | 0.989510 |\n",
      "| alarm      | True  | 0.010490 |\n",
      "| burglary   | False | 0.990000 |\n",
      "| burglary   | True  | 0.010000 |\n",
      "| earthquake | False | 0.999999 |\n",
      "| earthquake | True  | 0.000001 |\n",
      "| radio      | False | 0.999999 |\n",
      "| radio      | True  | 0.000001 |\n",
      "+------------+-------+----------+\n"
     ]
    }
   ],
   "source": [
    "from bayesian.bbn import build_bbn\n",
    "from bayesian.utils import make_key\n",
    "\n",
    "def f_burglary(burglary):\n",
    "    if burglary:\n",
    "        return 0.01\n",
    "    else:\n",
    "        return 0.99\n",
    "\n",
    "def f_earthquake(earthquake):\n",
    "    if earthquake:\n",
    "        return 1e-6\n",
    "    else:\n",
    "        return 1.-1e-6\n",
    "\n",
    "def f_alarm(burglary, earthquake, alarm):\n",
    "    table = dict()\n",
    "    table['fff'] = 0.999\n",
    "    table['fft'] = 0.001\n",
    "    table['ftf'] = 0.59\n",
    "    table['ftt'] = 0.41\n",
    "    table['tff'] = 0.05\n",
    "    table['tft'] = 0.95\n",
    "    table['ttf'] = 0.02\n",
    "    table['ttt'] = 0.98\n",
    "    return table[make_key(burglary, earthquake, alarm)]\n",
    "\n",
    "def f_radio(earthquake, radio):\n",
    "    table = dict()\n",
    "    table['ff'] = 1.0\n",
    "    table['ft'] = 0.0\n",
    "    table['tf'] = 0.0\n",
    "    table['tt'] = 1.0\n",
    "    return table[make_key(earthquake, radio)]\n",
    "\n",
    "if __name__ == '__main__':\n",
    "    g = build_bbn(\n",
    "        f_burglary,\n",
    "        f_earthquake,\n",
    "        f_alarm,\n",
    "        f_radio)\n",
    "    g.q()"
   ]
  },
  {
   "cell_type": "raw",
   "metadata": {},
   "source": [
    "p(a=0) == 0.989506\n",
    "p(a=1) == 0.010494\n",
    "\n",
    "p(b=0) == 0.990000\n",
    "p(b=1) == 0.010000\n",
    "\n",
    "p(e=0) == 0.999990\n",
    "p(e=1) == 0.000010\n",
    "\n",
    "p(r=0) == 0.999990\n",
    "p(r=1) == 0.000010"
   ]
  }
 ],
 "metadata": {
  "kernelspec": {
   "display_name": "Python 2",
   "language": "python",
   "name": "python2"
  },
  "language_info": {
   "codemirror_mode": {
    "name": "ipython",
    "version": 2
   },
   "file_extension": ".py",
   "mimetype": "text/x-python",
   "name": "python",
   "nbconvert_exporter": "python",
   "pygments_lexer": "ipython2",
   "version": "2.7.10"
  }
 },
 "nbformat": 4,
 "nbformat_minor": 0
}
