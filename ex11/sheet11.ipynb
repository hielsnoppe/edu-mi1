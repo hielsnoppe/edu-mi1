{
 "cells": [
  {
   "cell_type": "markdown",
   "metadata": {},
   "source": [
    "# Python2 Kernel required to run this notebook!"
   ]
  },
  {
   "cell_type": "code",
   "execution_count": 14,
   "metadata": {
    "collapsed": false
   },
   "outputs": [],
   "source": [
    "import numpy as np"
   ]
  },
  {
   "cell_type": "markdown",
   "metadata": {},
   "source": [
    "# 11.1"
   ]
  },
  {
   "cell_type": "code",
   "execution_count": 7,
   "metadata": {
    "collapsed": false
   },
   "outputs": [
    {
     "name": "stdout",
     "output_type": "stream",
     "text": [
      "exercise 11.1\n",
      "ach\n",
      "ae\n",
      "bcd\n",
      "bcg\n",
      "beg\n",
      "cghi\n",
      "ef\n",
      "fj\n",
      "\n",
      "moral graph\n",
      "abc\n",
      "cd\n",
      "ce\n"
     ]
    }
   ],
   "source": [
    "# vertices\n",
    "V = set(range(10))\n",
    "# N[v]: neighbors of v\n",
    "N = [\n",
    "    {2,4,7}, \n",
    "    {2,3,4,6},\n",
    "    {0,1,3,6,7,8},\n",
    "    {1,2},\n",
    "    {0,1,5,6},\n",
    "    {4,9},\n",
    "    {1,2,4,7,8},\n",
    "    {0,2,6,8},\n",
    "    {2,6,7},\n",
    "    {5}\n",
    "]\n",
    "\n",
    "letter = list(\"abcdefghij\")\n",
    "\n",
    "def string(S):\n",
    "    if S:\n",
    "        return \"\".join(([letter[v] for v in sorted(S)]))\n",
    "    else:\n",
    "        return \"-\"\n",
    "\n",
    "# Bron Kerbosch Alg.\n",
    "def find_all_maximal_cliques(R, P, X, depth=\"\"):\n",
    "    if not P and not X:\n",
    "        clique = [letter[v] for v in sorted(R)]\n",
    "#         print depth, string(R) or \"-\", string(P) or \"-\", string(X) or \"-\", \"    =>\", \"\".join(clique)\n",
    "        print(\"\".join(clique))\n",
    "#     else:\n",
    "#         print depth, string(R) or \"-\", string(P) or \"-\", string(X) or \"-\"\n",
    "\n",
    "    for v in P:\n",
    "        find_all_maximal_cliques(R | {v}, P & N[v], X & N[v], depth+\" |  \")\n",
    "        P = P - {v}\n",
    "        X = X | {v}\n",
    "\n",
    "    return\n",
    "\n",
    "print \"exercise 11.1\"\n",
    "find_all_maximal_cliques(set(), V, set())\n",
    "\n",
    "print \"\\nmoral graph\"\n",
    "V = set(range(5))\n",
    "N = [{1,2}, {0,2}, {0,1,3,4}, {2}, {2}]\n",
    "find_all_maximal_cliques(set(), V, set())"
   ]
  },
  {
   "cell_type": "markdown",
   "metadata": {},
   "source": [
    "$C_1: A,C,H $  \n",
    "$C_2: A,E $  \n",
    "$C_3: B,C,D $  \n",
    "$C_4: B,C,G $  \n",
    "$C_5: B,G,E $  \n",
    "$C_6: C,G,H,I $  \n",
    "$C_7: E,F $  \n",
    "$C_8: F,J $  "
   ]
  },
  {
   "cell_type": "markdown",
   "metadata": {},
   "source": [
    "# 11.2"
   ]
  },
  {
   "cell_type": "markdown",
   "metadata": {},
   "source": [
    "## a) moral graph of the given DAG\n",
    "<img src=\"files/moral_graph.png\">\n",
    "\n",
    "## b)\n",
    "<img src=\"files/decomposition.jpg\">"
   ]
  },
  {
   "cell_type": "markdown",
   "metadata": {},
   "source": [
    "# 11.3"
   ]
  },
  {
   "cell_type": "markdown",
   "metadata": {},
   "source": [
    "<img src='103a.png' />"
   ]
  },
  {
   "cell_type": "markdown",
   "metadata": {},
   "source": [
    "The implementation captures the graph structure in the joint probability formula. Corresponding probabilities are saved in lists/matrices."
   ]
  },
  {
   "cell_type": "code",
   "execution_count": 166,
   "metadata": {
    "collapsed": false
   },
   "outputs": [
    {
     "name": "stdout",
     "output_type": "stream",
     "text": [
      "p(b=1) = 0.01\n",
      "p(b=1|e=1) = 0.01\n",
      "p(b=1|e=1,a=1) = 0.0235746932884\n",
      "\n",
      "p(a=0) == 0.989506\n",
      "p(a=1) == 0.010494\n",
      "p(b=0) == 0.990000\n",
      "p(b=1) == 0.010000\n",
      "p(e=0) == 0.999990\n",
      "p(e=1) == 0.000010\n",
      "p(r=0) == 0.999990\n",
      "p(r=1) == 0.000010\n"
     ]
    }
   ],
   "source": [
    "# the graph in (a)\n",
    "def p(b=[0,1],e=[0,1],a=[0,1],r=[0,1]):\n",
    "    if isinstance(b, int): b = [b]\n",
    "    if isinstance(e, int): e = [e]\n",
    "    if isinstance(a, int): a = [a]\n",
    "    if isinstance(r, int): r = [r]\n",
    "   \n",
    "    # variable syntax: p_...x := p(x|...)\n",
    "    p_b = [0.99, 0.01]\n",
    "    p_e = [1.-10e-6, 10e-6]\n",
    "    p_er = [[1.0, 0.0], [0.0, 1.0]]\n",
    "    p_bea = [[[0.999, 0.001], [0.59, 0.41]], [[0.05, 0.95], [0.02, 0.98]]]\n",
    " \n",
    "    p_sum = 0.0\n",
    "    for bi in b:\n",
    "        for ei in e:\n",
    "            for ai in a:\n",
    "                for ri in r:\n",
    "                    p_sum += p_b[bi] * p_e[ei] * p_er[ei][ri] * p_bea[bi][ei][ai]\n",
    "\n",
    "    return p_sum\n",
    "\n",
    "def example():\n",
    "    print \"p(b=1) =\", p(b=1)\n",
    "    print \"p(b=1|e=1) =\", p(b=1,e=1) / p(e=1)\n",
    "    print \"p(b=1|e=1,a=1) =\", p(b=1,e=1,a=1) / p(e=1,a=1)\n",
    "    print\n",
    "    \n",
    "    for a in [0,1]: print \"p(a=%i) == %f\" % (a, p(a=a))\n",
    "    for b in [0,1]: print \"p(b=%i) == %f\" % (b, p(b=b))\n",
    "    for e in [0,1]: print \"p(e=%i) == %f\" % (e, p(e=e))\n",
    "    for r in [0,1]: print \"p(r=%i) == %f\" % (r, p(r=r))\n",
    "    return\n",
    "example()"
   ]
  },
  {
   "cell_type": "markdown",
   "metadata": {},
   "source": [
    "This does the same using the bayesian-belief-networks library. The graph structure is captured by probability functions with globally consistent variable names. The random variables are discrete, same as above."
   ]
  },
  {
   "cell_type": "code",
   "execution_count": 165,
   "metadata": {
    "collapsed": false
   },
   "outputs": [
    {
     "name": "stdout",
     "output_type": "stream",
     "text": [
      "+------------+-------+----------+\n",
      "| Node       | Value | Marginal |\n",
      "+------------+-------+----------+\n",
      "| alarm      | False | 0.989510 |\n",
      "| alarm      | True  | 0.010490 |\n",
      "| burglary   | False | 0.990000 |\n",
      "| burglary   | True  | 0.010000 |\n",
      "| earthquake | False | 0.999999 |\n",
      "| earthquake | True  | 0.000001 |\n",
      "| radio      | False | 0.999999 |\n",
      "| radio      | True  | 0.000001 |\n",
      "+------------+-------+----------+\n",
      "+------------+-------+----------+\n",
      "| Node       | Value | Marginal |\n",
      "+------------+-------+----------+\n",
      "| alarm      | False | 0.000000 |\n",
      "| alarm*     | \u001b[92mTrue*\u001b[0m | 1.000000 |\n",
      "| burglary   | False | 0.976425 |\n",
      "| burglary   | True  | 0.023575 |\n",
      "| earthquake | False | 0.000000 |\n",
      "| earthquake | True  | 1.000000 |\n",
      "| radio      | False | 0.000000 |\n",
      "| radio*     | \u001b[92mTrue*\u001b[0m | 1.000000 |\n",
      "+------------+-------+----------+\n",
      "0.0235746932884\n"
     ]
    }
   ],
   "source": [
    "from bayesian.bbn import build_bbn\n",
    "from bayesian.utils import make_key\n",
    "\n",
    "def f_burglary(burglary):\n",
    "    if burglary:\n",
    "        return 0.01\n",
    "    else:\n",
    "        return 0.99\n",
    "\n",
    "def f_earthquake(earthquake):\n",
    "    if earthquake:\n",
    "        return 1e-6\n",
    "    else:\n",
    "        return 1.-1e-6\n",
    "\n",
    "def f_alarm(burglary, earthquake, alarm):\n",
    "    table = dict()\n",
    "    table['fff'] = 0.999\n",
    "    table['fft'] = 0.001\n",
    "    table['ftf'] = 0.59\n",
    "    table['ftt'] = 0.41\n",
    "    table['tff'] = 0.05\n",
    "    table['tft'] = 0.95\n",
    "    table['ttf'] = 0.02\n",
    "    table['ttt'] = 0.98\n",
    "    return table[make_key(burglary, earthquake, alarm)]\n",
    "\n",
    "def f_radio(earthquake, radio):\n",
    "    table = dict()\n",
    "    table['ff'] = 1.0\n",
    "    table['ft'] = 0.0\n",
    "    table['tf'] = 0.0\n",
    "    table['tt'] = 1.0\n",
    "    return table[make_key(earthquake, radio)]\n",
    "\n",
    "\n",
    "g = build_bbn(\n",
    "    f_burglary,\n",
    "    f_earthquake,\n",
    "    f_alarm,\n",
    "    f_radio)\n",
    "g.q()\n",
    "g.q(alarm=1,radio=1)\n",
    "print p(b=1,a=1,r=1) / p(a=1,r=1)"
   ]
  },
  {
   "cell_type": "markdown",
   "metadata": {},
   "source": [
    "# 11.4"
   ]
  },
  {
   "cell_type": "markdown",
   "metadata": {},
   "source": [
    "## a) potential functions and the clique-marginal representation\n",
    "\n",
    "- potential functions are used to represent joint probabilities of cliques, can be easily updated by new data\n",
    "- they are strictly positive, real-valued and only depend on random variables in their assigned clique\n",
    "- don't need to be normalised so that $\\;\\psi_n(C_n) \\propto P(C_n)$\n",
    "- link between joint probability distribution and clique-marginal representation:  \n",
    "\n",
    "$P(V \\in \\mathcal{V})\\;=\\;\\prod_{V \\in \\mathcal{V}} P(V|V_{pa(V)})\\;=\\;\\frac{\\prod_i P(C_i)}{\\prod_j P(S_j)}\\;=\\; \\alpha \\frac{\\prod_i \\psi_i(C_i)}{\\prod_j \\psi_j(S_j)}\n",
    "$\n",
    "\n",
    "## b) exploitation of potential functions to make inferences\n",
    "\n",
    "1) update clique potential\n",
    "\n",
    "- initialisation: set all potentials to $1$, multiply nodes $x_k$ with $P(x_k\\; |\\; parents(x_k))$\n",
    "- inference by observed evidence at one node: $V_l=v_l$\n",
    "- introduce indicator function $E(V_l) = \\begin{cases}\n",
    "                                                  1 &\\text{ $V_l = v_l$}\\\\\n",
    "                                                  0 &\\text{ else}\n",
    "                                                  \\end{cases}$\n",
    "- update clique potential of observed node: $\\psi^*_{i}(C_i)=\\psi_{i}(C_i)E(V_l)$\n",
    "\n",
    "2) message passing\n",
    "\n",
    "- marginal seperator potential (eleminate nodes not in $S_s$): $\\; \\psi_s^*(S_s)\\;=\\; \\sum_{V \\in C_i, V \\notin \\psi_s} \\psi_i(V \\in C_i) $\n",
    "- the update of one clique demands updates of the neighbor cliques which happens by passing the update ratio $\\frac{\\psi_s^*(S_c)}{\\psi_s(S_c)}$ ($S_c$: common seperator)\n",
    "- updated neighbor potential obtained by multiplication of current potential with the update rate\n",
    "\n",
    "## c) benefits in comparison to DAG factorisation\n",
    "\n",
    "- simpler and clearer models due to substitution of subgraphs by cliques\n",
    "- highly improved interference"
   ]
  }
 ],
 "metadata": {
  "kernelspec": {
   "display_name": "Python 2",
   "language": "python",
   "name": "python2"
  },
  "language_info": {
   "codemirror_mode": {
    "name": "ipython",
    "version": 2
   },
   "file_extension": ".py",
   "mimetype": "text/x-python",
   "name": "python",
   "nbconvert_exporter": "python",
   "pygments_lexer": "ipython2",
   "version": "2.7.10"
  }
 },
 "nbformat": 4,
 "nbformat_minor": 0
}
