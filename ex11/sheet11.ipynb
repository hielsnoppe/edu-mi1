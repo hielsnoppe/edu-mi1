{
 "cells": [
  {
   "cell_type": "code",
   "execution_count": 5,
   "metadata": {
    "collapsed": false
   },
   "outputs": [
    {
     "name": "stderr",
     "output_type": "stream",
     "text": [
      "/usr/local/lib/python3.5/dist-packages/matplotlib/__init__.py:1350: UserWarning:  This call to matplotlib.use() has no effect\n",
      "because the backend has already been chosen;\n",
      "matplotlib.use() must be called *before* pylab, matplotlib.pyplot,\n",
      "or matplotlib.backends is imported for the first time.\n",
      "\n",
      "  warnings.warn(_use_error_msg)\n"
     ]
    }
   ],
   "source": [
    "import numpy as np\n",
    "import matplotlib\n",
    "matplotlib.use(\"Agg\")\n",
    "import matplotlib.pyplot as pp\n",
    "%matplotlib inline"
   ]
  },
  {
   "cell_type": "markdown",
   "metadata": {},
   "source": [
    "# 11.1"
   ]
  },
  {
   "cell_type": "code",
   "execution_count": 26,
   "metadata": {
    "collapsed": false
   },
   "outputs": [
    {
     "name": "stdout",
     "output_type": "stream",
     "text": [
      "exercise 11.1\n",
      "ach\n",
      "ae\n",
      "bcd\n",
      "bcg\n",
      "beg\n",
      "cghi\n",
      "ef\n",
      "fj\n",
      "\n",
      "moral graph\n",
      "abc\n",
      "cd\n",
      "ce\n"
     ]
    }
   ],
   "source": [
    "# vertices\n",
    "V = set(range(10))\n",
    "# N[v]: neighbors of v\n",
    "N = [\n",
    "    {2,4,7}, \n",
    "    {2,3,4,6},\n",
    "    {0,1,3,6,7,8},\n",
    "    {1,2},\n",
    "    {0,1,5,6},\n",
    "    {4,9},\n",
    "    {1,2,4,7,8},\n",
    "    {0,2,6,8},\n",
    "    {2,6,7},\n",
    "    {5}\n",
    "]\n",
    "\n",
    "letter = ['a','b','c','d','e','f','g','h','i','j']\n",
    "\n",
    "# Bron Kerbosch Alg.\n",
    "def find_all_maximal_cliques(R, P, X):\n",
    "    if not P and not X:\n",
    "        clique = [letter[v] for v in R]\n",
    "        print(\"\".join(sorted(clique)))\n",
    "\n",
    "    for v in P:\n",
    "        find_all_maximal_cliques(R | {v}, P & N[v], X & N[v])\n",
    "        P = P - {v}\n",
    "        X = X | {v}\n",
    "\n",
    "    return\n",
    "\n",
    "find_all_maximal_cliques(set(), V, set())\n",
    "\n",
    "print(\"\\nmoral graph\")\n",
    "V = set(range(5))\n",
    "N = [{1,2}, {0,2}, {0,1,3,4}, {2}, {2}]\n",
    "find_all_maximal_cliques(set(), V, set())"
   ]
  },
  {
   "cell_type": "markdown",
   "metadata": {},
   "source": [
    "# 11.2"
   ]
  }
 ],
 "metadata": {
  "kernelspec": {
   "display_name": "python3",
   "language": "python",
   "name": "python3"
  },
  "language_info": {
   "codemirror_mode": {
    "name": "ipython",
    "version": 3
   },
   "file_extension": ".py",
   "mimetype": "text/x-python",
   "name": "python",
   "nbconvert_exporter": "python",
   "pygments_lexer": "ipython3",
   "version": "3.5.0+"
  }
 },
 "nbformat": 4,
 "nbformat_minor": 0
}
