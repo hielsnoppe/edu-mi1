{
 "cells": [
  {
   "cell_type": "markdown",
   "metadata": {},
   "source": [
    "# 8.1 Binomial Coefficients"
   ]
  },
  {
   "cell_type": "markdown",
   "metadata": {},
   "source": [
    "\\begin{align}\n",
    "    & C(p,N) + C(p, N-1) \\\\\n",
    "    =\\ & 2 \\sum^{N-1}_{k=0}{{p-1}\\choose{k}} + 2 \\sum^{N-2}_{k=0}{{p-1}\\choose{k}} \\\\\n",
    "    =\\ & 2 \\sum^{N-1}_{k=0}{{p-1}\\choose{k}} + 2 \\sum^{N-1}_{k=1}{{p-1}\\choose{k-1}} \\\\\n",
    "    =\\ & 2 \\sum^{N-1}_{k=0}{{p-1}\\choose{k}} + 2 \\sum^{N-1}_{k=0}{{p-1}\\choose{k-1}} - 2\\underbrace{2 {p-1}\\choose{0-1}}_{0} \\\\\n",
    "    =\\ & 2 \\sum^{N-1}_{k=0}{ [{{p-1}\\choose{k}} + {{p-1}\\choose{k-1}}] } \\\\\n",
    "    \\overset{(2)}{=}\\ & 2 \\sum^{N-1}_{k=0}{ {{p}\\choose{k}} } \\\\\n",
    "    =\\ & C(p+1,N)\n",
    "\\end{align}"
   ]
  }
 ],
 "metadata": {
  "kernelspec": {
   "display_name": "python3",
   "language": "python",
   "name": "python3"
  },
  "language_info": {
   "codemirror_mode": {
    "name": "ipython",
    "version": 3
   },
   "file_extension": ".py",
   "mimetype": "text/x-python",
   "name": "python",
   "nbconvert_exporter": "python",
   "pygments_lexer": "ipython3",
   "version": "3.5.0+"
  }
 },
 "nbformat": 4,
 "nbformat_minor": 0
}
