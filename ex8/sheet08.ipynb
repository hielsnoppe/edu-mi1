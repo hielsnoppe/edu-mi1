{
 "cells": [
  {
   "cell_type": "markdown",
   "metadata": {},
   "source": [
    "# 8.1 Binomial Coefficients"
   ]
  },
  {
   "cell_type": "markdown",
   "metadata": {},
   "source": [
    "\\begin{align}\n",
    "    & C(p,N) + C(p, N-1) \\\\\n",
    "    =\\ & 2 \\sum^{N-1}_{k=0}{{p-1}\\choose{k}} + 2 \\sum^{N-2}_{k=0}{{p-1}\\choose{k}} \\\\\n",
    "    =\\ & 2 \\sum^{N-1}_{k=0}{{p-1}\\choose{k}} + 2 \\sum^{N-1}_{k=1}{{p-1}\\choose{k-1}} \\\\\n",
    "    =\\ & 2 \\sum^{N-1}_{k=0}{{p-1}\\choose{k}} + 2 \\sum^{N-1}_{k=0}{{p-1}\\choose{k-1}} - 2\\underbrace{2 {p-1}\\choose{0-1}}_{0} \\\\\n",
    "    =\\ & 2 \\sum^{N-1}_{k=0}{ [{{p-1}\\choose{k}} + {{p-1}\\choose{k-1}}] } \\\\\n",
    "    \\overset{(2)}{=}\\ & 2 \\sum^{N-1}_{k=0}{ {{p}\\choose{k}} } \\\\\n",
    "    =\\ & C(p+1,N)\n",
    "\\end{align}"
   ]
  },
  {
   "cell_type": "markdown",
   "metadata": {},
   "source": [
    "# 8.2 Geometry of Linear Classification"
   ]
  },
  {
   "cell_type": "code",
   "execution_count": 1,
   "metadata": {
    "collapsed": false
   },
   "outputs": [
    {
     "name": "stdout",
     "output_type": "stream",
     "text": [
      "Automatic calling is: Smart\n"
     ]
    }
   ],
   "source": [
    "import numpy as np\n",
    "import matplotlib\n",
    "matplotlib.use(\"Agg\")\n",
    "import matplotlib.pyplot as pp\n",
    "%matplotlib inline\n",
    "%autocall 1"
   ]
  },
  {
   "cell_type": "code",
   "execution_count": 2,
   "metadata": {
    "collapsed": false
   },
   "outputs": [
    {
     "name": "stdout",
     "output_type": "stream",
     "text": [
      "w = (0.35, 0.36)\n"
     ]
    },
    {
     "data": {
      "image/png": "[encoded data removed]",
      "text/plain": [
       "<matplotlib.figure.Figure at 0x7fde99c10a58>"
      ]
     },
     "metadata": {},
     "output_type": "display_data"
    }
   ],
   "source": [
    "def visualize_binary_classifier():\n",
    "    while True:\n",
    "        w = np.random.rand(2)\n",
    "        w = w/np.linalg.norm(w)/2.\n",
    "        b = np.random.rand(1)[0]/2.\n",
    "\n",
    "        X = np.array([-0.5, 2])\n",
    "        # from solving w.T.dot(x) - b == 0 for x1 (which is Y)\n",
    "        Y = (-w[0]*X + b)/w[1]\n",
    "        \n",
    "        # get a base for the arrow\n",
    "        x = b/w[1] / 2.\n",
    "        y = (-w[0]*x + b)/w[1]\n",
    "        \n",
    "        # if the axes intercepts aren't within plotting range, generate everything anew\n",
    "        if b/w[0] >= 2 or b/w[1] >= 2:\n",
    "            continue\n",
    "        \n",
    "        print(\"w = (%.2f, %.2f)\" % (w[0], w[1]))\n",
    "        ax = pp.figure(figsize=(8,8)).add_subplot(1,1,1)\n",
    "        pp.arrow(x, y, w[0], w[1], head_width=0.05, head_length=0.1, fc='k', ec='k')\n",
    "        pp.xlim(-0.5, 2)\n",
    "        pp.ylim(-0.5, 2)\n",
    "        ax.set_xticks([0], minor=True)\n",
    "        ax.set_yticks([0], minor=True)\n",
    "        pp.grid(which=\"minor\")\n",
    "\n",
    "        # plot analytically found decision boundary\n",
    "        pp.plot(X, Y, color=\"black\", lw=1)\n",
    "\n",
    "        # plot empirical decision boundary\n",
    "        n = 500\n",
    "        X = np.array(np.mgrid[-0.5:2:2.5/n, -0.5:2:2.5/n]).reshape(2,n**2)\n",
    "        Z = np.sign(w.T.dot(X) - b)\n",
    "        pp.contourf(X[0,:].reshape(n,n), X[1,:].reshape(n,n), Z.reshape(n,n), 1)\n",
    "\n",
    "        # axes intercepts\n",
    "        pp.scatter([0, b/w[0]], [b/w[1], 0])\n",
    "\n",
    "        break\n",
    "    return\n",
    "\n",
    "visualize_binary_classifier()"
   ]
  },
  {
   "cell_type": "markdown",
   "metadata": {},
   "source": [
    "**(a)**\n",
    "\n",
    "The decision boundary is a hyperplane defined by $(w^Tx - b = 0)$. $w$ decides the orientation, $b$ the offset from the origin. $w$ points in the direction of positive classification values $y(x)$.\n",
    "\n",
    "**(b)** \n",
    "\n",
    "A linear classifier divides the input space into two half-spaces. The *shattering coefficient* $s_{halfspaces}(n)$ then is the largest number of subsets that can be formed by intersecting *any* one input set $X$ of $n$ points using half-spaces.\n",
    "\n",
    "$s_{H}(n) = \\underset{X \\subseteq \\Omega \\\\ |X| = n}{max}\\ |\\{X \\cap H_i \\mid H_i \\in H\\}|$\n",
    "\n",
    "So $s_{H}(n) \\leq 2$  for a linear classifier?\n",
    "Or should H be the set of all possible half-spaces (all possible $w, b$) (s(n) = the number of ways to split the input set)?\n",
    "\n",
    "The *VC-dimension* $d_{VC}$ provides an upper bound to the shattering coefficient: $ln(s(n)) \\leq d_{VC}(1+ln\\frac{p}{d_{VC}})$.\n",
    "It provides a measure of the capacity of the separation capabilities of the separator function class H. If we can find n points, that can be shattered by H (that is, H can separate all possible binary labelings of the points), then VC(H) = n. It is sufficient, that some such example of n points exists (fixed points, but H must shatter them for all possible labelings).\n",
    "\n",
    "Small VC-dimensions are often applicable for real life data, since close points will have same labels, so separator classes with low VC-dimensions (low complexity models) might actually be preferrable."
   ]
  },
  {
   "cell_type": "markdown",
   "metadata": {},
   "source": [
    "# 8.3 The primal SRM problem"
   ]
  },
  {
   "cell_type": "markdown",
   "metadata": {},
   "source": [
    "#### (a) effect of the margin on generalization\n",
    "The margin is the lowest distance between the decision boundary and the closest datapoints. The margin of a canonical hyperplane is set to be $d = \\frac{1}{|w|}$ by choosing $|w|$ appropriately. A low margin means higher model complexity $C$, which means we might get a worse upper bound for the generalization error $E^G < E^T + C$, even if the separate the training set perfectly (overfitting). A high margin reduces model complexity, but increases the training error (underfitting)."
   ]
  },
  {
   "cell_type": "markdown",
   "metadata": {},
   "source": [
    "#### (b)"
   ]
  },
  {
   "cell_type": "code",
   "execution_count": 39,
   "metadata": {
    "collapsed": false
   },
   "outputs": [
    {
     "name": "stdout",
     "output_type": "stream",
     "text": [
      "w = (0.35, 0.36)\n",
      "1.76499942589\n",
      "1.76499942589\n"
     ]
    },
    {
     "data": {
      "image/png": "[encoded data removed]",
      "text/plain": [
       "<matplotlib.figure.Figure at 0x7fde9996d4a8>"
      ]
     },
     "metadata": {},
     "output_type": "display_data"
    }
   ],
   "source": [
    "def plot_point(x):\n",
    "    pp.scatter(x[0], x[1])\n",
    "def plot_arrow(x, s=[0, 0]):\n",
    "    pp.arrow(s[0], s[1], x[0], x[1], head_width=0.05, head_length=0.1, fc='k', ec='k')\n",
    "\n",
    "def visualize_binary_classifier():\n",
    "    while True:\n",
    "        w = np.random.rand(2)\n",
    "        w = w/np.linalg.norm(w)/2.\n",
    "        b = np.random.rand(1)[0]/2.\n",
    "\n",
    "        X = np.array([-0.5, 2])\n",
    "        # from solving w.T.dot(x) - b == 0 for x1 (which is Y)\n",
    "        Y = (-w[0]*X + b)/w[1]\n",
    "        \n",
    "        # get a base for the arrow\n",
    "        x = b/w[1] / 2.\n",
    "        y = (-w[0]*x + b)/w[1]\n",
    "        \n",
    "        # if the axes intercepts aren't within plotting range, generate everything anew\n",
    "        if b/w[0] >= 2 or b/w[1] >= 2:\n",
    "            continue\n",
    "        \n",
    "        print(\"w = (%.2f, %.2f)\" % (w[0], w[1]))\n",
    "        ax = pp.figure(figsize=(8,8)).add_subplot(1,1,1)\n",
    "#         pp.arrow(x, y, w[0], w[1], head_width=0.05, head_length=0.1, fc='k', ec='k')\n",
    "        plot_arrow(w, [x,y])\n",
    "        pp.xlim(-0.5, 2)\n",
    "        pp.ylim(-0.5, 2)\n",
    "        ax.set_xticks([0], minor=True)\n",
    "        ax.set_yticks([0], minor=True)\n",
    "        pp.grid(which=\"minor\")\n",
    "\n",
    "        # plot analytically found decision boundary\n",
    "        pp.plot(X, Y, color=\"black\", lw=1)\n",
    "\n",
    "        # plot empirical decision boundary\n",
    "        n = 500\n",
    "        X = np.array(np.mgrid[-0.5:2:2.5/n, -0.5:2:2.5/n]).reshape(2,n**2)\n",
    "        Z = np.sign(w.T.dot(X) - b)\n",
    "        pp.contourf(X[0,:].reshape(n,n), X[1,:].reshape(n,n), Z.reshape(n,n), 1)\n",
    "\n",
    "        # axes intercepts\n",
    "        pp.scatter([0, b/w[0]], [b/w[1], 0])\n",
    "\n",
    "        break\n",
    "    \n",
    "    basepoint = np.array([x,y])\n",
    "    # choose closest datapoint x\n",
    "    xc = np.array([1.5, 1.0])\n",
    "    plot_point(xc)\n",
    "    # project on w\n",
    "    xTw = xc.T.dot(w)\n",
    "    proj = (xTw * w)/(np.linalg.norm(w)**2)\n",
    "    plot_point(proj)\n",
    "    plot_arrow(proj)\n",
    "    # calc distance\n",
    "    a = b/xTw\n",
    "    plot_arrow(proj*a)\n",
    "    \n",
    "    print(xTw/np.linalg.norm(w))\n",
    "    print(np.linalg.norm(proj))\n",
    "    \n",
    "    return\n",
    "\n",
    "visualize_binary_classifier()"
   ]
  },
  {
   "cell_type": "code",
   "execution_count": 37,
   "metadata": {
    "collapsed": false
   },
   "outputs": [
    {
     "name": "stdout",
     "output_type": "stream",
     "text": [
      "[[ 0.70881322]]\n",
      "0.70881321689\n",
      "0.744408547926 0.0994879024459 0.778567555799\n",
      "-0.565701930197 0.147344434201 -0.973509386239\n",
      "-0.994826689541 0.582010453899 -2.16187417553\n",
      "-0.124778151349 0.909191622529 -8.3204346934\n",
      "-0.608886406513 0.600987744133 -2.19690184203\n",
      "-0.375880568821 0.239637661996 -1.25305494294\n",
      "-0.484650549449 0.0667291539361 -0.689064792181\n",
      "-0.347132929946 0.826697135639 -3.55533024699\n",
      "-0.743276321538 0.72388069205 -2.44106223709\n",
      "0.050264995799 0.247868488134 4.73363114111\n",
      "0.338376253393 0.992116332565 2.27825152076\n",
      "0.887107615174 0.66726395965 0.972022926941\n",
      "0.336164338037 0.504376337778 1.33217421232\n",
      "0.459329653912 0.565454980682 1.12491859967\n",
      "0.408939098586 0.506335542977 1.14077213555\n",
      "0.256294030392 0.658395205275 2.16680456306\n",
      "-0.434281277684 0.880977074834 -3.34384470911\n",
      "0.495428974352 0.372844576671 0.875153577065\n",
      "-0.838561344747 0.647013534211 -2.2571505523\n",
      "-0.098669196826 0.572069563976 -6.46859242109\n"
     ]
    }
   ],
   "source": [
    "def test():\n",
    "    w = np.random.rand(3)[:,np.newaxis]\n",
    "    x = np.random.rand(3)[:,np.newaxis]\n",
    "    print(w.T.dot(w))\n",
    "    print(np.linalg.norm(w)**2)\n",
    "    \n",
    "    for i in range(20):\n",
    "        p, w = np.random.rand(2)*2. - 1.\n",
    "        w = np.abs(w)\n",
    "        print(p, w, p-(w*(p-1))/(p))\n",
    "test()"
   ]
  },
  {
   "cell_type": "markdown",
   "metadata": {},
   "source": [
    "#### (c) Write down and explain the primal optimization problem of model selection through structural risk minimization (SRM)"
   ]
  },
  {
   "cell_type": "markdown",
   "metadata": {},
   "source": [
    "Primal Problem:\n",
    "\n",
    "minimize $f_{0}(x)$ subject to $f_{k}(x) \\leq 0$, $k=1,...,m$, which in our case is:\n",
    "\n",
    "minimize $\\frac{1}{2}|w|^2$ subject to $-y_T^{(\\alpha)}((w^Tx^{(\\alpha)}+b)-1) \\leq 0$\n",
    "\n",
    "This means we wish to find the largest margin $\\frac{1}{|w|}$, that seperates all training datapoints:\n",
    "\n",
    "$y_T^{(\\alpha)}(w^Tx^{(\\alpha)} + b) \\geq 1 \\quad \\forall \\alpha$\n",
    "\n",
    "holds for \n",
    "$y_T^{(\\alpha)} \\in \\{-1, 1\\}, \\quad \\forall \\alpha$ and\n",
    "\n",
    "$ w^Tx^{(\\alpha)} + b \\geq y_T^{(\\alpha)} \\quad \\forall y_T^{(\\alpha)} = 1$, \n",
    "\n",
    "$ w^Tx^{(\\alpha)} + b \\leq y_T^{(\\alpha)} \\quad \\forall y_T^{(\\alpha)} = -1$\n",
    "\n",
    "The constraint term at the top is just a concise rewrite of these 2 inequalities.\n",
    "\n",
    "Since the objective function $\\frac{1}{2}|w|^2$ is convex, it only has one optimal solution. And since this is a standard formulation, we can use solvers to solve it. The solution should classify all training points perfectly ($E^T = 0$), while minimizing the complexity $C$."
   ]
  },
  {
   "cell_type": "markdown",
   "metadata": {},
   "source": [
    "# 8.4 The dual problem for the Support Vector Machine"
   ]
  },
  {
   "cell_type": "markdown",
   "metadata": {},
   "source": [
    "# 8.5 Kernel Construction"
   ]
  },
  {
   "cell_type": "code",
   "execution_count": 15,
   "metadata": {
    "collapsed": false
   },
   "outputs": [
    {
     "name": "stdout",
     "output_type": "stream",
     "text": [
      "\n",
      "\n",
      "\n",
      "\n",
      "\n",
      "\n",
      "\n",
      "\n",
      "\n",
      "\n",
      "\n",
      "\n",
      "\n",
      "\n",
      "\n",
      "\n",
      "\n",
      "\n",
      "\n",
      "\n",
      "\n",
      "\n",
      "\n",
      "\n",
      "\n",
      "\n",
      "\n",
      "\n",
      "\n",
      "\n",
      "\n",
      "\n",
      "\n",
      "\n",
      "\n",
      "\n",
      "\n",
      "\n",
      "\n",
      "\n",
      "\n",
      "\n",
      "\n",
      "\n",
      "\n",
      "\n",
      "\n",
      "\n",
      "\n",
      "\n",
      "\n",
      "\n",
      "\n",
      "\n",
      "\n",
      "\n",
      "\n",
      "\n",
      "\n",
      "\n",
      "\n",
      "\n",
      "\n",
      "\n",
      "\n",
      "\n",
      "\n",
      "\n",
      "\n",
      "\n",
      "\n",
      "\n",
      "\n",
      "\n",
      "\n",
      "\n",
      "\n",
      "\n",
      "\n",
      "\n",
      "\n",
      "\n",
      "\n",
      "\n",
      "\n",
      "\n",
      "\n",
      "\n",
      "\n",
      "\n",
      "\n",
      "\n",
      "\n",
      "\n",
      "\n",
      "\n",
      "\n",
      "\n",
      "\n",
      "\n"
     ]
    }
   ],
   "source": [
    "for i in range(100): print(\"\")"
   ]
  }
 ],
 "metadata": {
  "kernelspec": {
   "display_name": "python3",
   "language": "python",
   "name": "python3"
  },
  "language_info": {
   "codemirror_mode": {
    "name": "ipython",
    "version": 3
   },
   "file_extension": ".py",
   "mimetype": "text/x-python",
   "name": "python",
   "nbconvert_exporter": "python",
   "pygments_lexer": "ipython3",
   "version": "3.5.0+"
  }
 },
 "nbformat": 4,
 "nbformat_minor": 0
}
