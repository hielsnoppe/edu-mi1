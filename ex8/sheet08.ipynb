{
 "cells": [
  {
   "cell_type": "markdown",
   "metadata": {},
   "source": [
    "# 8.1 Binomial Coefficients"
   ]
  },
  {
   "cell_type": "markdown",
   "metadata": {},
   "source": [
    "\\begin{align}\n",
    "    & C(p,N) + C(p, N-1) \\\\\n",
    "    =\\ & 2 \\sum^{N-1}_{k=0}{{p-1}\\choose{k}} + 2 \\sum^{N-2}_{k=0}{{p-1}\\choose{k}} \\\\\n",
    "    =\\ & 2 \\sum^{N-1}_{k=0}{{p-1}\\choose{k}} + 2 \\sum^{N-1}_{k=1}{{p-1}\\choose{k-1}} \\\\\n",
    "    =\\ & 2 \\sum^{N-1}_{k=0}{{p-1}\\choose{k}} + 2 \\sum^{N-1}_{k=0}{{p-1}\\choose{k-1}} - 2\\underbrace{2 {p-1}\\choose{0-1}}_{0} \\\\\n",
    "    =\\ & 2 \\sum^{N-1}_{k=0}{ [{{p-1}\\choose{k}} + {{p-1}\\choose{k-1}}] } \\\\\n",
    "    \\overset{(2)}{=}\\ & 2 \\sum^{N-1}_{k=0}{ {{p}\\choose{k}} } \\\\\n",
    "    =\\ & C(p+1,N)\n",
    "\\end{align}"
   ]
  },
  {
   "cell_type": "markdown",
   "metadata": {},
   "source": [
    "# 8.2 Geometry of Linear Classification"
   ]
  },
  {
   "cell_type": "code",
   "execution_count": 24,
   "metadata": {
    "collapsed": false
   },
   "outputs": [
    {
     "name": "stdout",
     "output_type": "stream",
     "text": [
      "Automatic calling is: Smart\n"
     ]
    },
    {
     "name": "stderr",
     "output_type": "stream",
     "text": [
      "/usr/local/lib/python3.5/dist-packages/matplotlib/__init__.py:1350: UserWarning:  This call to matplotlib.use() has no effect\n",
      "because the backend has already been chosen;\n",
      "matplotlib.use() must be called *before* pylab, matplotlib.pyplot,\n",
      "or matplotlib.backends is imported for the first time.\n",
      "\n",
      "  warnings.warn(_use_error_msg)\n"
     ]
    }
   ],
   "source": [
    "import numpy as np\n",
    "import matplotlib\n",
    "matplotlib.use(\"Agg\")\n",
    "import matplotlib.pyplot as pp\n",
    "%matplotlib inline\n",
    "%autocall 1"
   ]
  },
  {
   "cell_type": "code",
   "execution_count": 112,
   "metadata": {
    "collapsed": false
   },
   "outputs": [
    {
     "data": {
      "image/png": "[encoded data removed]",
      "text/plain": [
       "<matplotlib.figure.Figure at 0x7f54d92cf198>"
      ]
     },
     "metadata": {},
     "output_type": "display_data"
    }
   ],
   "source": [
    "def visualize_binary_classifier():\n",
    "    while True:\n",
    "        w = np.random.rand(2)/2\n",
    "        b = np.random.rand(1)[0]/2\n",
    "\n",
    "        X = np.linspace(-0.5, 2, 2)\n",
    "        # from solving w.T.dot(x) - b == 0 for x1 (which is Y)\n",
    "        Y = (-w[0]*X + b)/w[1]\n",
    "        \n",
    "        # get a base for the arrow\n",
    "        x = np.random.rand(1)[0]\n",
    "        y = (-w[0]*x + b)/w[1]\n",
    "        \n",
    "        # if the base for the arrow is nice, proceed, otherwise generate everything anew\n",
    "        if y < 1 and y > 0:\n",
    "            pp.figure(figsize=(8,8))\n",
    "            pp.arrow(x, y, w[0], w[1], head_width=0.05, head_length=0.1, fc='k', ec='k')\n",
    "            pp.xlim(-0.5, 2)\n",
    "            pp.ylim(-0.5, 2)\n",
    "            pp.grid()\n",
    "            \n",
    "            # plot analytically found decision boundary\n",
    "            pp.plot(X, Y, color=\"black\", lw=1)\n",
    "\n",
    "            # plot empirical decision boundary\n",
    "            n = 500\n",
    "            X = np.array(np.mgrid[-0.5:2:2.5/n, -0.5:2:2.5/n]).reshape(2,n**2)\n",
    "            Z = np.sign(w.T.dot(X) - b)\n",
    "            pp.contourf(X[0,:].reshape(n,n), X[1,:].reshape(n,n), Z.reshape(n,n), 1)\n",
    "            break\n",
    "    return\n",
    "\n",
    "visualize_binary_classifier()"
   ]
  },
  {
   "cell_type": "markdown",
   "metadata": {},
   "source": [
    "**(a)** The decision boundary is a hyperplane defined by $(w, b)$. $w$ decides the orientation, $b$ the offset from the origin."
   ]
  },
  {
   "cell_type": "markdown",
   "metadata": {},
   "source": [
    "**(b)** \n",
    "The *shattering coefficient*\n",
    "The *VC-dimension*"
   ]
  },
  {
   "cell_type": "markdown",
   "metadata": {},
   "source": [
    "# 8.3 The primal SRM problem"
   ]
  },
  {
   "cell_type": "markdown",
   "metadata": {},
   "source": [
    "# 8.4 The dual problem for the Support Vector Machine"
   ]
  },
  {
   "cell_type": "markdown",
   "metadata": {},
   "source": [
    "# 8.5 Kernel Construction"
   ]
  }
 ],
 "metadata": {
  "kernelspec": {
   "display_name": "python3",
   "language": "python",
   "name": "python3"
  },
  "language_info": {
   "codemirror_mode": {
    "name": "ipython",
    "version": 3
   },
   "file_extension": ".py",
   "mimetype": "text/x-python",
   "name": "python",
   "nbconvert_exporter": "python",
   "pygments_lexer": "ipython3",
   "version": "3.5.0+"
  }
 },
 "nbformat": 4,
 "nbformat_minor": 0
}
