{
 "cells": [
  {
   "cell_type": "markdown",
   "metadata": {},
   "source": [
    "# 9.1"
   ]
  },
  {
   "cell_type": "code",
   "execution_count": 65,
   "metadata": {
    "collapsed": false
   },
   "outputs": [
    {
     "data": {
      "text/latex": [
       "$\\newcommand{\\norm}[1]{\\left\\lVert#1\\right\\rVert}$\n",
       "$\\newcommand{\\a}{(\\alpha)}$                 \n",
       "$\\newcommand{\\phi}{\\varphi}$"
      ],
      "text/plain": [
       "<IPython.core.display.Latex object>"
      ]
     },
     "metadata": {},
     "output_type": "display_data"
    }
   ],
   "source": [
    "%%latex\n",
    "$\\newcommand{\\norm}[1]{\\left\\lVert#1\\right\\rVert}$\n",
    "$\\newcommand{\\a}{(\\alpha)}$                 \n",
    "$\\newcommand{\\phi}{\\varphi}$"
   ]
  },
  {
   "cell_type": "code",
   "execution_count": 87,
   "metadata": {
    "collapsed": false
   },
   "outputs": [
    {
     "data": {
      "text/latex": [
       "primal problem (let $c:=\\frac{C}{p}$)\n",
       "\n",
       "\\begin{align*}\n",
       "\\text{min} \\quad\n",
       "& \\frac{1}{2} \\norm w^2 + c \\sum{\\phi_{\\a}} \\\\\n",
       "\\text{s.t.} \\quad\n",
       "& y_T^{\\a}(w^Tx_{\\a} + b) \\ge 1 - \\phi_{\\a} \\\\\n",
       "&\\ \\phi_{\\a} \\ge 0\n",
       "\\\\\n",
       "\\end{align*}\n",
       "                             \n",
       "The Lagrangefunction with Lagrangemultipliers $\\lambda, \\mu$ to this is:\n",
       "\\begin{align*}\n",
       "L &= \\frac{1}{2} \\norm{w}^2\n",
       "    + c \\sum_{\\a} \\phi_{\\a}\n",
       "    - \\sum_{\\a} \\lambda_{\\a} ( y_T^{\\a}(w^Tx_{\\a} -1 + \\phi_{\\a}))\n",
       "    - \\sum_{\\a} \\mu_{\\a} \\phi_{\\a}\n",
       "    \\qquad \\mid \\text{extract $\\phi$ from middle term}\n",
       "    \\\\\n",
       "&= \\frac{1}{2} \\norm{w}^2\n",
       "    + c \\sum_{\\a} \\phi_{\\a}\n",
       "    - \\sum_{\\a} \\lambda_{\\a} ( y_T^{\\a}(w^Tx_{\\a} -1))\n",
       "    - \\sum_{\\a} \\lambda_{\\a} \\phi_{\\a}\n",
       "    - \\sum_{\\a} \\mu_{\\a} \\phi_{\\a}\n",
       "    \\qquad \\mid \\text{rearrange}\n",
       "    \\\\\n",
       "&= \\frac{1}{2} \\norm{w}^2\n",
       "    - \\sum_{\\a} \\lambda_{\\a} ( y_T^{\\a}(w^Tx_{\\a} -1))\n",
       "    \\qquad + c \\sum_{\\a} \\phi_{\\a}\n",
       "    - \\sum_{\\a} \\lambda_{\\a} \\phi_{\\a}\n",
       "    - \\sum_{\\a} \\mu_{\\a} \\phi_{\\a}\n",
       "    \\\\\n",
       "\\end{align*}\n",
       "\n",
       "Clearly, the left part of this equation is the same as before (exercise 8). \n",
       "Also, the right part doesn't contain $w$ or $b$. \n",
       "Thus the corresponding derivations are the same as in exercise 8.\n",
       "\n",
       "For $\\frac{dL}{d\\phi_{\\a}}$ we get:\n",
       "\n",
       "\\begin{align*}\n",
       "\\frac{dL}{d\\phi_{\\a}} = c - \\lambda_{\\a} - \\phi_{\\a} &\\overset{!}{=} 0 \\\\\n",
       "\\Leftrightarrow c &= \\lambda_{\\a} + \\phi_{\\a} \\qquad\n",
       "\\end{align*}\n",
       "\n",
       "And since $\\phi_{\\a}$ is a Lagrangemultiplier, it must hold $\\phi_{\\a} \\ge 0$:\n",
       "                       \n",
       "\\begin{align*}\n",
       "c &= \\lambda_{\\a} + \\underbrace{\\phi_{\\a}}_{\\ge 0} \\\\\n",
       "\\Rightarrow c &\\ge \\lambda_{\\a}\n",
       "\\end{align*}\n",
       "\n",
       "When we combine this new result with the dual problem from exercise 8 (which we can do, because the remaining derivations are the same), we get the new dual problem as shown on the current exercise sheet."
      ],
      "text/plain": [
       "<IPython.core.display.Latex object>"
      ]
     },
     "metadata": {},
     "output_type": "display_data"
    }
   ],
   "source": [
    "%%latex\n",
    "primal problem (let $c:=\\frac{C}{p}$)\n",
    "\n",
    "\\begin{align*}\n",
    "\\text{min} \\quad\n",
    "& \\frac{1}{2} \\norm w^2 + c \\sum{\\phi_{\\a}} \\\\\n",
    "\\text{s.t.} \\quad\n",
    "& y_T^{\\a}(w^Tx_{\\a} + b) \\ge 1 - \\phi_{\\a} \\\\\n",
    "&\\ \\phi_{\\a} \\ge 0\n",
    "\\\\\n",
    "\\end{align*}\n",
    "                             \n",
    "The Lagrangefunction with Lagrangemultipliers $\\lambda, \\mu$ to this is:\n",
    "\\begin{align*}\n",
    "L &= \\frac{1}{2} \\norm{w}^2\n",
    "    + c \\sum_{\\a} \\phi_{\\a}\n",
    "    - \\sum_{\\a} \\lambda_{\\a} ( y_T^{\\a}(w^Tx_{\\a} -1 + \\phi_{\\a}))\n",
    "    - \\sum_{\\a} \\mu_{\\a} \\phi_{\\a}\n",
    "    \\qquad \\mid \\text{extract $\\phi$ from middle term}\n",
    "    \\\\\n",
    "&= \\frac{1}{2} \\norm{w}^2\n",
    "    + c \\sum_{\\a} \\phi_{\\a}\n",
    "    - \\sum_{\\a} \\lambda_{\\a} ( y_T^{\\a}(w^Tx_{\\a} -1))\n",
    "    - \\sum_{\\a} \\lambda_{\\a} \\phi_{\\a}\n",
    "    - \\sum_{\\a} \\mu_{\\a} \\phi_{\\a}\n",
    "    \\qquad \\mid \\text{rearrange}\n",
    "    \\\\\n",
    "&= \\frac{1}{2} \\norm{w}^2\n",
    "    - \\sum_{\\a} \\lambda_{\\a} ( y_T^{\\a}(w^Tx_{\\a} -1))\n",
    "    \\qquad + c \\sum_{\\a} \\phi_{\\a}\n",
    "    - \\sum_{\\a} \\lambda_{\\a} \\phi_{\\a}\n",
    "    - \\sum_{\\a} \\mu_{\\a} \\phi_{\\a}\n",
    "    \\\\\n",
    "\\end{align*}\n",
    "\n",
    "Clearly, the left part of this equation is the same as before (exercise 8). \n",
    "Also, the right part doesn't contain $w$ or $b$. \n",
    "Thus the corresponding derivations are the same as in exercise 8.\n",
    "\n",
    "For $\\frac{dL}{d\\phi_{\\a}}$ we get:\n",
    "\n",
    "\\begin{align*}\n",
    "\\frac{dL}{d\\phi_{\\a}} = c - \\lambda_{\\a} - \\phi_{\\a} &\\overset{!}{=} 0 \\\\\n",
    "\\Leftrightarrow c &= \\lambda_{\\a} + \\phi_{\\a} \\qquad\n",
    "\\end{align*}\n",
    "\n",
    "And since $\\phi_{\\a}$ is a Lagrangemultiplier, it must hold $\\phi_{\\a} \\ge 0$:\n",
    "                       \n",
    "\\begin{align*}\n",
    "c &= \\lambda_{\\a} + \\underbrace{\\phi_{\\a}}_{\\ge 0} \\\\\n",
    "\\Rightarrow c &\\ge \\lambda_{\\a}\n",
    "\\end{align*}\n",
    "\n",
    "When we combine this new result with the dual problem from exercise 8 (which we can do, because the remaining derivations are the same), we get the new dual problem as shown on the current exercise sheet."
   ]
  },
  {
   "cell_type": "markdown",
   "metadata": {},
   "source": [
    "# 9.3"
   ]
  },
  {
   "cell_type": "code",
   "execution_count": 89,
   "metadata": {
    "collapsed": false
   },
   "outputs": [],
   "source": [
    "import numpy as np\n",
    "import matplotlib\n",
    "matplotlib.use(\"Agg\")\n",
    "import matplotlib.pyplot as pp\n",
    "%matplotlib inline"
   ]
  },
  {
   "cell_type": "markdown",
   "metadata": {},
   "source": [
    "the svm library assumes libsvm.so.2 is located in the directory above this one (is accessible in svm.py using \"../libsvm.so.2\")"
   ]
  },
  {
   "cell_type": "code",
   "execution_count": 90,
   "metadata": {
    "collapsed": false
   },
   "outputs": [],
   "source": [
    "from svm import *\n",
    "from svmutil import *\n",
    "prob = svm_problem([1,-1], [{1:1, 3:1}, {1:-1, 3:-1}])\n",
    "param = svm_parameter('-c 4')\n",
    "m = libsvm.svm_train(prob, param)\n",
    "x0, max_idx = gen_svm_nodearray({1:1, 3:1})\n",
    "label = libsvm.svm_predict(m, x0)"
   ]
  },
  {
   "cell_type": "markdown",
   "metadata": {},
   "source": [
    "### generate test data"
   ]
  },
  {
   "cell_type": "code",
   "execution_count": 103,
   "metadata": {
    "collapsed": false,
    "scrolled": true
   },
   "outputs": [
    {
     "name": "stdout",
     "output_type": "stream",
     "text": [
      "(80, 3) data\n",
      "(80, 3) data\n"
     ]
    },
    {
     "data": {
      "image/png": "[encoded data removed]",
      "text/plain": [
       "<matplotlib.figure.Figure at 0x7f0599da34e0>"
      ]
     },
     "metadata": {},
     "output_type": "display_data"
    },
    {
     "data": {
      "image/png": "[encoded data removed]",
      "text/plain": [
       "<matplotlib.figure.Figure at 0x7f0599da3438>"
      ]
     },
     "metadata": {},
     "output_type": "display_data"
    }
   ],
   "source": [
    "def scatter(data, color=\"dodgerblue\", markers = None):\n",
    "    pp.scatter(data[:,0], data[:,1], s=50, c=color, edgecolor=\"white\")\n",
    "    return\n",
    "\n",
    "def newplot(i=1, title=\"\"):\n",
    "    if (i == 1):\n",
    "        pp.figure(figsize=(16,8))\n",
    "    pp.subplot(1,2,i)\n",
    "    if title != \"\":\n",
    "        pp.title(title)\n",
    "    pp.axis('equal')\n",
    "    pp.xticks([0, 1])\n",
    "    pp.yticks([0, 1])\n",
    "    pp.xlim([-1, 2])\n",
    "    pp.ylim([-1, 2])\n",
    "    pp.grid()\n",
    "    return\n",
    "\n",
    "def grid(min_x, max_x, n=100):\n",
    "    line = np.linspace(min_x, max_x, n)\n",
    "    X = np.array(np.meshgrid(line, line))  # (dims, n, n)\n",
    "    Xpoints = np.vstack([X[0,:,:].reshape(n**2), X[1,:,:].reshape(n**2)]).T  # (n*n, dims)\n",
    "    return X, Xpoints\n",
    "\n",
    "def gen_data(n=80, std=np.sqrt(0.1)):\n",
    "    n = int(n/2)\n",
    "    X1 = np.vstack([np.random.normal(0, std, n), np.random.normal(1, std, n)])\n",
    "    X2 = np.vstack([np.random.normal(1, std, n), np.random.normal(0, std, n)])\n",
    "\n",
    "    X3 = np.vstack([np.random.normal(0, std, n), np.random.normal(0, std, n)])\n",
    "    X4 = np.vstack([np.random.normal(1, std, n), np.random.normal(1, std, n)])\n",
    "\n",
    "    newplot(1, str(n) + \" seperate points from N1 to N4 each\")\n",
    "    for X in [X1, X2]:\n",
    "        scatter(X.T)\n",
    "    for X in [X3, X4]:\n",
    "        scatter(X.T, \"red\")\n",
    "\n",
    "    newplot(2, str(n) + \" points from p1, p2 each\")\n",
    "    Xp1 = np.hstack([X1, X2]).T\n",
    "    Xp1 = Xp1[np.random.choice(n*2, n), :]\n",
    "    # scatter(Xp1)\n",
    "    Xp2 = np.hstack([X3, X4]).T\n",
    "    Xp2 = Xp2[np.random.choice(n*2, n), :]\n",
    "    # scatter(Xp2, \"red\")\n",
    "\n",
    "    Y = np.hstack([-np.ones(n), np.ones(n)])\n",
    "    data = np.vstack([np.hstack([Xp1.T, Xp2.T]), Y]).T\n",
    "    scatter(data[data[:,2]==-1])\n",
    "    scatter(data[data[:,2]==1], \"red\")\n",
    "    print(data.shape, \"data\")\n",
    "    return data\n",
    "\n",
    "dataset = gen_data(80)\n",
    "testset = gen_data(80)"
   ]
  },
  {
   "cell_type": "markdown",
   "metadata": {},
   "source": [
    "### train with RBF-Kernel (default parameters), visualize results"
   ]
  },
  {
   "cell_type": "markdown",
   "metadata": {},
   "source": [
    "parameter description for svm_train:"
   ]
  },
  {
   "cell_type": "raw",
   "metadata": {},
   "source": [
    "Usage: svm-train [options] training_set_file [model_file]\n",
    "options:\n",
    "-s svm_type : set type of SVM (default 0)\n",
    "        0 -- C-SVC              (multi-class classification)\n",
    "        1 -- nu-SVC             (multi-class classification)\n",
    "        2 -- one-class SVM\n",
    "        3 -- epsilon-SVR        (regression)\n",
    "        4 -- nu-SVR             (regression)\n",
    "-t kernel_type : set type of kernel function (default 2)\n",
    "        0 -- linear: u'*v\n",
    "        1 -- polynomial: (gamma*u'*v + coef0)^degree\n",
    "        2 -- radial basis function: exp(-gamma*|u-v|^2)\n",
    "        3 -- sigmoid: tanh(gamma*u'*v + coef0)\n",
    "        4 -- precomputed kernel (kernel values in training_set_file)\n",
    "-d degree : set degree in kernel function (default 3)\n",
    "-g gamma : set gamma in kernel function (default 1/num_features)\n",
    "-r coef0 : set coef0 in kernel function (default 0)\n",
    "-c cost : set the parameter C of C-SVC, epsilon-SVR, and nu-SVR (default 1)\n",
    "-n nu : set the parameter nu of nu-SVC, one-class SVM, and nu-SVR (default 0.5)\n",
    "-p epsilon : set the epsilon in loss function of epsilon-SVR (default 0.1)\n",
    "-m cachesize : set cache memory size in MB (default 100)\n",
    "-e epsilon : set tolerance of termination criterion (default 0.001)\n",
    "-h shrinking : whether to use the shrinking heuristics, 0 or 1 (default 1)\n",
    "-b probability_estimates : whether to train a SVC or SVR model for probability estimates, 0 or 1 (default 0)\n",
    "-wi weight : set the parameter C of class i to weight*C, for C-SVC (default 1)\n",
    "-v n: n-fold cross validation mode\n",
    "-q : quiet mode (no outputs)"
   ]
  },
  {
   "cell_type": "code",
   "execution_count": 114,
   "metadata": {
    "collapsed": false
   },
   "outputs": [
    {
     "name": "stdout",
     "output_type": "stream",
     "text": [
      "predicting Xtest labels\n",
      "Accuracy = 78.75% (63/80) (classification)\n",
      "accuracy: 78.750000 \n",
      "mean square error: 0.850000 \n",
      "squared correlation coefficient: 0.335873\n"
     ]
    },
    {
     "data": {
      "image/png": "[encoded data removed]",
      "text/plain": [
       "<matplotlib.figure.Figure at 0x7f059a1fe518>"
      ]
     },
     "metadata": {},
     "output_type": "display_data"
    }
   ],
   "source": [
    "def ex93a(dataset=dataset, testset=testset):\n",
    "    Ytrain = dataset[:,2]\n",
    "    Xtrain = dataset[:,:2]\n",
    "    Xtest = testset[:,:2]\n",
    "    Ytest = testset[:,2]\n",
    "    \n",
    "    # (a) TRAIN MODEL\n",
    "    # 1/2 = (default gamma) != (datagen gamma) = 1/(2(std**2)) = 1/0.2 = 5\n",
    "    # i.e. you should get better results with '-g 5'\n",
    "    m = svm_train(Ytrain.tolist(), Xtrain.tolist(), '-t 2')\n",
    "    \n",
    "    # (b) PREDICT LABELS\n",
    "    print(\"predicting Xtest labels\")\n",
    "    p_labs, p_acc, p_vals = svm_predict(Ytest.tolist(), Xtest.tolist(), m)\n",
    "    print(\"accuracy: %f \\nmean square error: %f \\nsquared correlation coefficient: %f\" % p_acc)\n",
    "    labels = np.array(p_labs)\n",
    "\n",
    "    # (c) PLOT RESULTS\n",
    "    # calc decision boundary\n",
    "    n = 300\n",
    "    X, X_ = grid(-1.2, 2.2, n)\n",
    "    # predicting labels for decision boundary\n",
    "    p_labs, p_acc, p_vals = svm_predict([0]*(n*n), X_.tolist(), m, \"-q\")\n",
    "    grid_labels = np.array(p_labs).reshape((n,n))\n",
    "    \n",
    "    newplot(1, \"decision boundary and training data\")\n",
    "    scatter(Xtrain[Ytrain==-1.0,:], \"dodgerblue\")\n",
    "    scatter(Xtrain[Ytrain==1.0,:], \"red\")\n",
    "    pp.contourf(X[0,:,:], X[1,:,:], grid_labels, alpha=0.3, levels=[-1, 0, 1.])\n",
    "    \n",
    "    newplot(2, \"decision boundary and test data\")\n",
    "    scatter(Xtest[Ytest==-1.0,:2], \"dodgerblue\")\n",
    "    scatter(Xtest[Ytest==1.0,:2], \"red\")\n",
    "    pp.contourf(X[0,:,:], X[1,:,:], grid_labels, alpha=0.3, levels=[-1, 0, 1.])\n",
    "    return\n",
    "\n",
    "ex93a()"
   ]
  },
  {
   "cell_type": "markdown",
   "metadata": {},
   "source": [
    "# 9.4"
   ]
  },
  {
   "cell_type": "code",
   "execution_count": 150,
   "metadata": {
    "collapsed": false
   },
   "outputs": [
    {
     "name": "stdout",
     "output_type": "stream",
     "text": [
      "3.55\n",
      "3.5\n",
      "3.4\n",
      "3.25\n",
      "1.35\n",
      "1.05\n",
      "0.65\n",
      "0.6\n",
      "0.55\n",
      "0.5\n",
      "0.45\n",
      "0.4\n"
     ]
    },
    {
     "data": {
      "text/plain": [
       "(512.0, 0.5, 0.40000000000000002)"
      ]
     },
     "execution_count": 150,
     "metadata": {},
     "output_type": "execute_result"
    }
   ],
   "source": [
    "def gridsearch(dataset=dataset, testset=testset):\n",
    "    # used to test final parameters determined by crossvalidation\n",
    "    Xtest = testset[:,:2]\n",
    "    Ytest = testset[:,2]\n",
    "    \n",
    "    Cs = 2**np.arange(-5,17,2).astype(float)  # complexity punishment\n",
    "    Gs = 2**np.arange(-15,5,2).astype(float)  # tries to find gamma* = 1/(2*std**2)\n",
    "    c_best = 0\n",
    "    g_best = 0\n",
    "    acc_best = np.inf\n",
    "    \n",
    "    k = 5  # number of partitions in k-fold-crossvalidation\n",
    "    n = int(len(dataset)/k)  # number of elements per partition\n",
    "    data_parts = [dataset[i*n:i*n+n] for i in range(0, k)]\n",
    "    \n",
    "    m = None  # model\n",
    "\n",
    "    # gridsearch (= try all combinations)\n",
    "    for c in Cs:\n",
    "        for g in Gs:\n",
    "            \n",
    "            # crossvalidation\n",
    "            accuracy = []\n",
    "            for i,current in enumerate(data_parts):\n",
    "            \n",
    "                # train on parts\\current\n",
    "                data = np.vstack([part for j,part in enumerate(data_parts) if j != i])\n",
    "                X = data[:,:2].tolist()\n",
    "                Y = data[:,2].tolist()\n",
    "                m = svm_train(Y, X, '-t 2 -c %f -g %f -q' % (c, g))\n",
    "                \n",
    "                # validate on current\n",
    "                X = current[:,:2].tolist()\n",
    "                Y = current[:,2].tolist()\n",
    "                p_labs, p_acc, p_vals = svm_predict(Y, X, m, \"-q\")\n",
    "                \n",
    "                accuracy.append(p_acc[1])\n",
    "            acc_mean = np.array(accuracy).mean()\n",
    "                \n",
    "            if (acc_mean < acc_best):\n",
    "                c_best = c\n",
    "                g_best = g\n",
    "                acc_best = acc_mean\n",
    "                print(acc_mean)\n",
    "    \n",
    "    # test on testset\n",
    "\n",
    "    return c_best, g_best, acc_best\n",
    "gridsearch()"
   ]
  },
  {
   "cell_type": "code",
   "execution_count": 119,
   "metadata": {
    "collapsed": false
   },
   "outputs": [
    {
     "name": "stdout",
     "output_type": "stream",
     "text": [
      "\n",
      "\n",
      "\n",
      "\n",
      "\n",
      "\n",
      "\n",
      "\n",
      "\n",
      "\n",
      "\n",
      "\n",
      "\n",
      "\n",
      "\n",
      "\n",
      "\n",
      "\n",
      "\n",
      "\n",
      "\n",
      "\n",
      "\n",
      "\n",
      "\n",
      "\n",
      "\n",
      "\n",
      "\n",
      "\n",
      "\n",
      "\n",
      "\n",
      "\n",
      "\n",
      "\n",
      "\n",
      "\n",
      "\n",
      "\n",
      "\n",
      "\n",
      "\n",
      "\n",
      "\n",
      "\n",
      "\n",
      "\n",
      "\n",
      "\n",
      "\n",
      "\n",
      "\n",
      "\n",
      "\n",
      "\n",
      "\n",
      "\n",
      "\n",
      "\n",
      "\n",
      "\n",
      "\n",
      "\n",
      "\n",
      "\n",
      "\n",
      "\n",
      "\n",
      "\n",
      "\n",
      "\n",
      "\n",
      "\n",
      "\n",
      "\n",
      "\n",
      "\n",
      "\n",
      "\n",
      "\n",
      "\n",
      "\n",
      "\n",
      "\n",
      "\n",
      "\n",
      "\n",
      "\n",
      "\n",
      "\n",
      "\n",
      "\n",
      "\n",
      "\n",
      "\n",
      "\n",
      "\n",
      "\n",
      "\n"
     ]
    }
   ],
   "source": [
    "for i in range(100): print(\"\")"
   ]
  }
 ],
 "metadata": {
  "kernelspec": {
   "display_name": "python3",
   "language": "python",
   "name": "python3"
  },
  "language_info": {
   "codemirror_mode": {
    "name": "ipython",
    "version": 3
   },
   "file_extension": ".py",
   "mimetype": "text/x-python",
   "name": "python",
   "nbconvert_exporter": "python",
   "pygments_lexer": "ipython3",
   "version": "3.5.0+"
  }
 },
 "nbformat": 4,
 "nbformat_minor": 0
}
