{
 "cells": [
  {
   "cell_type": "code",
   "execution_count": 1,
   "metadata": {
    "collapsed": true
   },
   "outputs": [],
   "source": [
    "import numpy as np"
   ]
  },
  {
   "cell_type": "code",
   "execution_count": 6,
   "metadata": {
    "collapsed": false
   },
   "outputs": [
    {
     "name": "stdout",
     "output_type": "stream",
     "text": [
      "+------------+-------+----------+\n",
      "| Node       | Value | Marginal |\n",
      "+------------+-------+----------+\n",
      "| alarm      | False | 0.989506 |\n",
      "| alarm      | True  | 0.010494 |\n",
      "| burglary   | False | 0.990000 |\n",
      "| burglary   | True  | 0.010000 |\n",
      "| earthquake | False | 0.999990 |\n",
      "| earthquake | True  | 0.000010 |\n",
      "| radio      | False | 0.999990 |\n",
      "| radio      | True  | 0.000010 |\n",
      "+------------+-------+----------+\n",
      "+------------+-------+----------+\n",
      "| Node       | Value | Marginal |\n",
      "+------------+-------+----------+\n",
      "| alarm      | False | 0.000000 |\n",
      "| alarm*     | \u001b[92mTrue*\u001b[0m | 1.000000 |\n",
      "| burglary   | False | 0.976425 |\n",
      "| burglary   | True  | 0.023575 |\n",
      "| earthquake | False | 0.000000 |\n",
      "| earthquake | True  | 1.000000 |\n",
      "| radio      | False | 0.000000 |\n",
      "| radio*     | \u001b[92mTrue*\u001b[0m | 1.000000 |\n",
      "+------------+-------+----------+\n",
      "+------------+-------+----------+\n",
      "| Node       | Value | Marginal |\n",
      "+------------+-------+----------+\n",
      "| alarm      | False | 0.000000 |\n",
      "| alarm*     | \u001b[92mTrue*\u001b[0m | 1.000000 |\n",
      "| burglary   | False | 0.094725 |\n",
      "| burglary   | True  | 0.905275 |\n",
      "| earthquake | False | 0.999604 |\n",
      "| earthquake | True  | 0.000396 |\n",
      "| radio      | False | 0.999604 |\n",
      "| radio      | True  | 0.000396 |\n",
      "+------------+-------+----------+\n"
     ]
    }
   ],
   "source": [
    "from bayesian.bbn import build_bbn\n",
    "from bayesian.utils import make_key\n",
    "\n",
    "def f_burglary(burglary):\n",
    "    if burglary:\n",
    "        return 0.01\n",
    "    else:\n",
    "        return 0.99\n",
    "\n",
    "def f_earthquake(earthquake):\n",
    "    if earthquake:\n",
    "        return 10e-6\n",
    "    else:\n",
    "        return 1.-10e-6\n",
    "\n",
    "def f_alarm(burglary, earthquake, alarm):\n",
    "    table = dict()\n",
    "    table['fff'] = 0.999\n",
    "    table['fft'] = 0.001\n",
    "    table['ftf'] = 0.59\n",
    "    table['ftt'] = 0.41\n",
    "    table['tff'] = 0.05\n",
    "    table['tft'] = 0.95\n",
    "    table['ttf'] = 0.02\n",
    "    table['ttt'] = 0.98\n",
    "    return table[make_key(burglary, earthquake, alarm)]\n",
    "\n",
    "def f_radio(earthquake, radio):\n",
    "    table = dict()\n",
    "    table['ff'] = 1.0\n",
    "    table['ft'] = 0.0\n",
    "    table['tf'] = 0.0\n",
    "    table['tt'] = 1.0\n",
    "    return table[make_key(earthquake, radio)]\n",
    "\n",
    "\n",
    "g = build_bbn(\n",
    "    f_burglary,\n",
    "    f_earthquake,\n",
    "    f_alarm,\n",
    "    f_radio)\n",
    "g.q()\n",
    "g.q(alarm=1,radio=1)\n",
    "g.q(alarm=1)"
   ]
  },
  {
   "cell_type": "raw",
   "metadata": {},
   "source": [
    "p(B=t|A=t,R=t):  | burglary   | True  | 0.023575 |\n",
    "p(B=t|A=t):      | burglary   | True  | 0.905275 |"
   ]
  }
 ],
 "metadata": {
  "kernelspec": {
   "display_name": "Python 2",
   "language": "python",
   "name": "python2"
  },
  "language_info": {
   "codemirror_mode": {
    "name": "ipython",
    "version": 2
   },
   "file_extension": ".py",
   "mimetype": "text/x-python",
   "name": "python",
   "nbconvert_exporter": "python",
   "pygments_lexer": "ipython2",
   "version": "2.7.10"
  }
 },
 "nbformat": 4,
 "nbformat_minor": 0
}
